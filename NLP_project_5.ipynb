{
  "cells": [
    {
      "cell_type": "code",
      "execution_count": null,
      "metadata": {
        "colab": {
          "base_uri": "https://localhost:8080/"
        },
        "id": "ycP5xaQzSqkh",
        "outputId": "69b6d7e5-bac4-4fa3-8520-75326f5d864e"
      },
      "outputs": [
        {
          "output_type": "stream",
          "name": "stdout",
          "text": [
            "Mounted at /content/drive\n"
          ]
        }
      ],
      "source": [
        "# Mounting Google Drive\n",
        "from google.colab import drive\n",
        "drive.mount('/content/drive')"
      ]
    },
    {
      "cell_type": "code",
      "execution_count": null,
      "metadata": {
        "id": "QTnk_RF8S92r"
      },
      "outputs": [],
      "source": [
        "# Natural Language Processing\n",
        "\n",
        "# Importing the libraries\n",
        "import numpy as np\n",
        "import matplotlib.pyplot as plt\n",
        "import pandas as pd"
      ]
    },
    {
      "cell_type": "code",
      "execution_count": null,
      "metadata": {
        "colab": {
          "base_uri": "https://localhost:8080/",
          "height": 74,
          "resources": {
            "http://localhost:8080/nbextensions/google.colab/files.js": {
              "data": "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",
              "headers": [
                [
                  "content-type",
                  "application/javascript"
                ]
              ],
              "ok": true,
              "status": 200,
              "status_text": ""
            }
          }
        },
        "id": "2iSDmmJjTLF6",
        "outputId": "3ed879ba-93de-4495-f67e-7f1f9f71a0bf"
      },
      "outputs": [
        {
          "output_type": "display_data",
          "data": {
            "text/plain": [
              "<IPython.core.display.HTML object>"
            ],
            "text/html": [
              "\n",
              "     <input type=\"file\" id=\"files-f4ea648f-fe37-4cec-b3c9-43ba9161599b\" name=\"files[]\" multiple disabled\n",
              "        style=\"border:none\" />\n",
              "     <output id=\"result-f4ea648f-fe37-4cec-b3c9-43ba9161599b\">\n",
              "      Upload widget is only available when the cell has been executed in the\n",
              "      current browser session. Please rerun this cell to enable.\n",
              "      </output>\n",
              "      <script src=\"/nbextensions/google.colab/files.js\"></script> "
            ]
          },
          "metadata": {}
        },
        {
          "output_type": "stream",
          "name": "stdout",
          "text": [
            "Saving NLP dataset 1.csv to NLP dataset 1.csv\n"
          ]
        }
      ],
      "source": [
        "from google.colab import files\n",
        "uploaded = files.upload()"
      ]
    },
    {
      "cell_type": "code",
      "execution_count": null,
      "metadata": {
        "colab": {
          "base_uri": "https://localhost:8080/",
          "height": 206
        },
        "id": "zcxUhva9TRM_",
        "outputId": "1d4fe9b5-648b-4cf6-ada7-460b14851c1c"
      },
      "outputs": [
        {
          "output_type": "execute_result",
          "data": {
            "text/plain": [
              "                                                text  class\n",
              "0  Now all @Apple has to do is get swype on the i...      1\n",
              "1  @Apple will be adding more carrier support to ...      1\n",
              "2  Hilarious @youtube video - guy does a duet wit...      1\n",
              "3  @RIM you made it too easy for me to switch to ...      1\n",
              "4  I just realized that the reason I got into twi...      1"
            ],
            "text/html": [
              "\n",
              "  <div id=\"df-72408cc1-a550-46ec-a922-e0d9f85a61fd\">\n",
              "    <div class=\"colab-df-container\">\n",
              "      <div>\n",
              "<style scoped>\n",
              "    .dataframe tbody tr th:only-of-type {\n",
              "        vertical-align: middle;\n",
              "    }\n",
              "\n",
              "    .dataframe tbody tr th {\n",
              "        vertical-align: top;\n",
              "    }\n",
              "\n",
              "    .dataframe thead th {\n",
              "        text-align: right;\n",
              "    }\n",
              "</style>\n",
              "<table border=\"1\" class=\"dataframe\">\n",
              "  <thead>\n",
              "    <tr style=\"text-align: right;\">\n",
              "      <th></th>\n",
              "      <th>text</th>\n",
              "      <th>class</th>\n",
              "    </tr>\n",
              "  </thead>\n",
              "  <tbody>\n",
              "    <tr>\n",
              "      <th>0</th>\n",
              "      <td>Now all @Apple has to do is get swype on the i...</td>\n",
              "      <td>1</td>\n",
              "    </tr>\n",
              "    <tr>\n",
              "      <th>1</th>\n",
              "      <td>@Apple will be adding more carrier support to ...</td>\n",
              "      <td>1</td>\n",
              "    </tr>\n",
              "    <tr>\n",
              "      <th>2</th>\n",
              "      <td>Hilarious @youtube video - guy does a duet wit...</td>\n",
              "      <td>1</td>\n",
              "    </tr>\n",
              "    <tr>\n",
              "      <th>3</th>\n",
              "      <td>@RIM you made it too easy for me to switch to ...</td>\n",
              "      <td>1</td>\n",
              "    </tr>\n",
              "    <tr>\n",
              "      <th>4</th>\n",
              "      <td>I just realized that the reason I got into twi...</td>\n",
              "      <td>1</td>\n",
              "    </tr>\n",
              "  </tbody>\n",
              "</table>\n",
              "</div>\n",
              "      <button class=\"colab-df-convert\" onclick=\"convertToInteractive('df-72408cc1-a550-46ec-a922-e0d9f85a61fd')\"\n",
              "              title=\"Convert this dataframe to an interactive table.\"\n",
              "              style=\"display:none;\">\n",
              "        \n",
              "  <svg xmlns=\"http://www.w3.org/2000/svg\" height=\"24px\"viewBox=\"0 0 24 24\"\n",
              "       width=\"24px\">\n",
              "    <path d=\"M0 0h24v24H0V0z\" fill=\"none\"/>\n",
              "    <path d=\"M18.56 5.44l.94 2.06.94-2.06 2.06-.94-2.06-.94-.94-2.06-.94 2.06-2.06.94zm-11 1L8.5 8.5l.94-2.06 2.06-.94-2.06-.94L8.5 2.5l-.94 2.06-2.06.94zm10 10l.94 2.06.94-2.06 2.06-.94-2.06-.94-.94-2.06-.94 2.06-2.06.94z\"/><path d=\"M17.41 7.96l-1.37-1.37c-.4-.4-.92-.59-1.43-.59-.52 0-1.04.2-1.43.59L10.3 9.45l-7.72 7.72c-.78.78-.78 2.05 0 2.83L4 21.41c.39.39.9.59 1.41.59.51 0 1.02-.2 1.41-.59l7.78-7.78 2.81-2.81c.8-.78.8-2.07 0-2.86zM5.41 20L4 18.59l7.72-7.72 1.47 1.35L5.41 20z\"/>\n",
              "  </svg>\n",
              "      </button>\n",
              "      \n",
              "  <style>\n",
              "    .colab-df-container {\n",
              "      display:flex;\n",
              "      flex-wrap:wrap;\n",
              "      gap: 12px;\n",
              "    }\n",
              "\n",
              "    .colab-df-convert {\n",
              "      background-color: #E8F0FE;\n",
              "      border: none;\n",
              "      border-radius: 50%;\n",
              "      cursor: pointer;\n",
              "      display: none;\n",
              "      fill: #1967D2;\n",
              "      height: 32px;\n",
              "      padding: 0 0 0 0;\n",
              "      width: 32px;\n",
              "    }\n",
              "\n",
              "    .colab-df-convert:hover {\n",
              "      background-color: #E2EBFA;\n",
              "      box-shadow: 0px 1px 2px rgba(60, 64, 67, 0.3), 0px 1px 3px 1px rgba(60, 64, 67, 0.15);\n",
              "      fill: #174EA6;\n",
              "    }\n",
              "\n",
              "    [theme=dark] .colab-df-convert {\n",
              "      background-color: #3B4455;\n",
              "      fill: #D2E3FC;\n",
              "    }\n",
              "\n",
              "    [theme=dark] .colab-df-convert:hover {\n",
              "      background-color: #434B5C;\n",
              "      box-shadow: 0px 1px 3px 1px rgba(0, 0, 0, 0.15);\n",
              "      filter: drop-shadow(0px 1px 2px rgba(0, 0, 0, 0.3));\n",
              "      fill: #FFFFFF;\n",
              "    }\n",
              "  </style>\n",
              "\n",
              "      <script>\n",
              "        const buttonEl =\n",
              "          document.querySelector('#df-72408cc1-a550-46ec-a922-e0d9f85a61fd button.colab-df-convert');\n",
              "        buttonEl.style.display =\n",
              "          google.colab.kernel.accessAllowed ? 'block' : 'none';\n",
              "\n",
              "        async function convertToInteractive(key) {\n",
              "          const element = document.querySelector('#df-72408cc1-a550-46ec-a922-e0d9f85a61fd');\n",
              "          const dataTable =\n",
              "            await google.colab.kernel.invokeFunction('convertToInteractive',\n",
              "                                                     [key], {});\n",
              "          if (!dataTable) return;\n",
              "\n",
              "          const docLinkHtml = 'Like what you see? Visit the ' +\n",
              "            '<a target=\"_blank\" href=https://colab.research.google.com/notebooks/data_table.ipynb>data table notebook</a>'\n",
              "            + ' to learn more about interactive tables.';\n",
              "          element.innerHTML = '';\n",
              "          dataTable['output_type'] = 'display_data';\n",
              "          await google.colab.output.renderOutput(dataTable, element);\n",
              "          const docLink = document.createElement('div');\n",
              "          docLink.innerHTML = docLinkHtml;\n",
              "          element.appendChild(docLink);\n",
              "        }\n",
              "      </script>\n",
              "    </div>\n",
              "  </div>\n",
              "  "
            ]
          },
          "metadata": {},
          "execution_count": 4
        }
      ],
      "source": [
        "dataset = pd.read_csv('NLP dataset 1.csv')\n",
        "dataset.head()"
      ]
    },
    {
      "cell_type": "code",
      "execution_count": null,
      "metadata": {
        "colab": {
          "base_uri": "https://localhost:8080/"
        },
        "id": "WgbQ5zaeVe1r",
        "outputId": "b1e1dc5b-31f6-468a-986e-ef13b668c7dc"
      },
      "outputs": [
        {
          "output_type": "stream",
          "name": "stdout",
          "text": [
            "                                                  text  class\n",
            "0    Now all @Apple has to do is get swype on the i...      1\n",
            "1    @Apple will be adding more carrier support to ...      1\n",
            "2    Hilarious @youtube video - guy does a duet wit...      1\n",
            "3    @RIM you made it too easy for me to switch to ...      1\n",
            "4    I just realized that the reason I got into twi...      1\n",
            "..                                                 ...    ...\n",
            "474  Houston we have a problem!! My iPad has been r...      0\n",
            "475  #Siri went down for a little while last night....      0\n",
            "476  @ford should have teamed up with @Apple instea...      0\n",
            "477  RT @gdcurry: Really @Apple?  What have you don...      0\n",
            "478                                DAMN YOU !!! @apple      0\n",
            "\n",
            "[479 rows x 2 columns]\n"
          ]
        }
      ],
      "source": [
        "print(dataset)"
      ]
    },
    {
      "cell_type": "code",
      "execution_count": null,
      "metadata": {
        "colab": {
          "base_uri": "https://localhost:8080/"
        },
        "id": "InOSCxYsW6TA",
        "outputId": "651f193e-8fe4-4375-fbcf-b35390b5937f"
      },
      "outputs": [
        {
          "output_type": "stream",
          "name": "stdout",
          "text": [
            "(479, 2)\n"
          ]
        }
      ],
      "source": [
        "#Print Total number of Rows & columns in dataset\n",
        "print(dataset.shape)"
      ]
    },
    {
      "cell_type": "code",
      "execution_count": null,
      "metadata": {
        "colab": {
          "base_uri": "https://localhost:8080/"
        },
        "id": "VPFAoA43XOSQ",
        "outputId": "8ef8e602-0aed-47aa-db87-b94300c0507c"
      },
      "outputs": [
        {
          "output_type": "stream",
          "name": "stdout",
          "text": [
            "<class 'pandas.core.frame.DataFrame'>\n",
            "RangeIndex: 479 entries, 0 to 478\n",
            "Data columns (total 2 columns):\n",
            " #   Column  Non-Null Count  Dtype \n",
            "---  ------  --------------  ----- \n",
            " 0   text    479 non-null    object\n",
            " 1   class   479 non-null    int64 \n",
            "dtypes: int64(1), object(1)\n",
            "memory usage: 7.6+ KB\n"
          ]
        }
      ],
      "source": [
        "#Print Information about data\n",
        "dataset.info()"
      ]
    },
    {
      "cell_type": "code",
      "execution_count": null,
      "metadata": {
        "colab": {
          "base_uri": "https://localhost:8080/"
        },
        "id": "XsQquNp5XRtT",
        "outputId": "53f2ec1c-7d9f-4723-d9f5-e51597e790da"
      },
      "outputs": [
        {
          "output_type": "stream",
          "name": "stdout",
          "text": [
            "text     object\n",
            "class     int64\n",
            "dtype: object\n"
          ]
        }
      ],
      "source": [
        "#Data types of Columns\n",
        "types = dataset.dtypes\n",
        "print(types)"
      ]
    },
    {
      "cell_type": "code",
      "execution_count": null,
      "metadata": {
        "colab": {
          "base_uri": "https://localhost:8080/"
        },
        "id": "RUdgP0F4XWxm",
        "outputId": "668ae0c6-4ffd-4dd0-ca1b-b1b90e102211"
      },
      "outputs": [
        {
          "output_type": "stream",
          "name": "stdout",
          "text": [
            "class\n",
            "0    316\n",
            "1    163\n",
            "dtype: int64\n"
          ]
        }
      ],
      "source": [
        "#Count total number of classes in Data\n",
        "class_counts = dataset.groupby('class').size()\n",
        "print(class_counts)"
      ]
    },
    {
      "cell_type": "code",
      "execution_count": null,
      "metadata": {
        "colab": {
          "base_uri": "https://localhost:8080/",
          "height": 281
        },
        "id": "G383ANNUXmRg",
        "outputId": "ee0027e0-9bb7-46a6-cc9c-76d1f9377d79"
      },
      "outputs": [
        {
          "output_type": "display_data",
          "data": {
            "text/plain": [
              "<Figure size 432x288 with 1 Axes>"
            ],
            "image/png": "[encoded data removed]"
          },
          "metadata": {
            "needs_background": "light"
          }
        }
      ],
      "source": [
        "# Histogram plot\n",
        "from matplotlib import pyplot\n",
        "dataset.hist()\n",
        "pyplot.show()"
      ]
    },
    {
      "cell_type": "code",
      "execution_count": null,
      "metadata": {
        "colab": {
          "base_uri": "https://localhost:8080/",
          "height": 116
        },
        "id": "VXB081B1XrYN",
        "outputId": "8f0b2c1a-6fd2-43ab-d90b-66b466b067a2"
      },
      "outputs": [
        {
          "output_type": "display_data",
          "data": {
            "text/plain": [
              "<Figure size 432x288 with 9 Axes>"
            ],
            "image/png": "[encoded data removed]"
          },
          "metadata": {
            "needs_background": "light"
          }
        }
      ],
      "source": [
        "#Density Plot\n",
        "dataset.plot(kind='density' ,subplots=True, layout=(3,3), sharex=False)\n",
        "pyplot.show()\n"
      ]
    },
    {
      "cell_type": "code",
      "execution_count": null,
      "metadata": {
        "colab": {
          "base_uri": "https://localhost:8080/"
        },
        "id": "VbnLJD9gYCeh",
        "outputId": "3749b563-f113-4ace-eeaa-f37e2f94dbfc"
      },
      "outputs": [
        {
          "output_type": "execute_result",
          "data": {
            "text/plain": [
              "text     0\n",
              "class    0\n",
              "dtype: int64"
            ]
          },
          "metadata": {},
          "execution_count": 12
        }
      ],
      "source": [
        "#Finding missing values\n",
        "dataset.isnull().sum()"
      ]
    },
    {
      "cell_type": "code",
      "execution_count": null,
      "metadata": {
        "id": "1DUi8nOlYKT3"
      },
      "outputs": [],
      "source": [
        "# Removing index column\n",
        "dataset = dataset.dropna()"
      ]
    },
    {
      "cell_type": "code",
      "execution_count": null,
      "metadata": {
        "colab": {
          "base_uri": "https://localhost:8080/"
        },
        "id": "41txiLctYdX7",
        "outputId": "52e56dce-efbf-4026-b6d3-dbc5af507513"
      },
      "outputs": [
        {
          "output_type": "stream",
          "name": "stdout",
          "text": [
            "                                                  text  class\n",
            "0    Now all @Apple has to do is get swype on the i...      1\n",
            "1    @Apple will be adding more carrier support to ...      1\n",
            "2    Hilarious @youtube video - guy does a duet wit...      1\n",
            "3    @RIM you made it too easy for me to switch to ...      1\n",
            "4    I just realized that the reason I got into twi...      1\n",
            "..                                                 ...    ...\n",
            "474  Houston we have a problem!! My iPad has been r...      0\n",
            "475  #Siri went down for a little while last night....      0\n",
            "476  @ford should have teamed up with @Apple instea...      0\n",
            "477  RT @gdcurry: Really @Apple?  What have you don...      0\n",
            "478                                DAMN YOU !!! @apple      0\n",
            "\n",
            "[479 rows x 2 columns]\n"
          ]
        }
      ],
      "source": [
        "print(dataset)"
      ]
    },
    {
      "cell_type": "code",
      "execution_count": null,
      "metadata": {
        "colab": {
          "base_uri": "https://localhost:8080/"
        },
        "id": "pEF_5PBHYi5J",
        "outputId": "bd18dcdd-6ea6-4b5c-e64c-ab57b9cc9126"
      },
      "outputs": [
        {
          "output_type": "stream",
          "name": "stdout",
          "text": [
            "Now all @Apple has to do is get swype on the iphone and it will be crack. Iphone that is\n"
          ]
        }
      ],
      "source": [
        "print(dataset.loc[0][0])"
      ]
    },
    {
      "cell_type": "code",
      "execution_count": null,
      "metadata": {
        "id": "yGnU1fwqYpOB"
      },
      "outputs": [],
      "source": [
        "# Let us take text to understand process of data preprocessing in NLP\n",
        "text1=\"Now all @Apple has to do is get swype on the iphone and it will be crack. Iphone that is\""
      ]
    },
    {
      "cell_type": "code",
      "execution_count": null,
      "metadata": {
        "colab": {
          "base_uri": "https://localhost:8080/"
        },
        "id": "8q-COinwYwUg",
        "outputId": "951658a9-ae06-4783-fb69-7a162b0f99a4"
      },
      "outputs": [
        {
          "output_type": "stream",
          "name": "stdout",
          "text": [
            "Now all @Apple has to do is get swype on the iphone and it will be crack. Iphone that is\n",
            "-------------------------------------------------\n",
            "Review after removing number and punctuation marks. \n",
            "Now all  Apple has to do is get swype on the iphone and it will be crack  Iphone that is\n"
          ]
        }
      ],
      "source": [
        "# First step: cleaning Text and removing number and punctuation marks.\n",
        "import re\n",
        "review = re.sub('[^a-zA-Z]', ' ', dataset['text'][0])\n",
        "print(text1)\n",
        "print('-------------------------------------------------')\n",
        "print('Review after removing number and punctuation marks. ')\n",
        "print(review)"
      ]
    },
    {
      "cell_type": "code",
      "execution_count": null,
      "metadata": {
        "colab": {
          "base_uri": "https://localhost:8080/"
        },
        "id": "oEyxp3KYY2PU",
        "outputId": "9c376de6-9f37-4c5d-c434-ff0a68f8ce7b"
      },
      "outputs": [
        {
          "output_type": "stream",
          "name": "stdout",
          "text": [
            "Now all @Apple has to do is get swype on the iphone and it will be crack. Iphone that is\n",
            "-------------------------------------------------\n",
            "Text after convering into lower case\n",
            "now all  apple has to do is get swype on the iphone and it will be crack  iphone that is\n"
          ]
        }
      ],
      "source": [
        "# Second  step: converting text into lower case.\n",
        "review=review.lower()\n",
        "print(text1)\n",
        "print('-------------------------------------------------')\n",
        "print('Text after convering into lower case')\n",
        "print(review)"
      ]
    },
    {
      "cell_type": "code",
      "execution_count": null,
      "metadata": {
        "colab": {
          "base_uri": "https://localhost:8080/"
        },
        "id": "IYCEYh-NjX7t",
        "outputId": "96176a04-90ab-4e75-8fbe-10a3b62c6ba3"
      },
      "outputs": [
        {
          "output_type": "stream",
          "name": "stdout",
          "text": [
            "['now', 'all', 'apple', 'has', 'to', 'do', 'is', 'get', 'swype', 'on', 'the', 'iphone', 'and', 'it', 'will', 'be', 'crack', 'iphone', 'that', 'is']\n"
          ]
        },
        {
          "output_type": "stream",
          "name": "stderr",
          "text": [
            "[nltk_data] Downloading package stopwords to /root/nltk_data...\n",
            "[nltk_data]   Unzipping corpora/stopwords.zip.\n"
          ]
        }
      ],
      "source": [
        "# Third step: Removing stop words like 'this, the'\n",
        "import nltk\n",
        "nltk.download('stopwords')\n",
        "from nltk.corpus import stopwords\n",
        "review = review.split()\n",
        "print(review)"
      ]
    },
    {
      "cell_type": "code",
      "execution_count": null,
      "metadata": {
        "colab": {
          "base_uri": "https://localhost:8080/"
        },
        "id": "vGt_YHntjgZA",
        "outputId": "f7f9f873-6e67-4e3b-823f-5fa42bd5a63c"
      },
      "outputs": [
        {
          "output_type": "stream",
          "name": "stdout",
          "text": [
            "Text after removing stop words\n",
            "['apple', 'get', 'swype', 'iphone', 'crack', 'iphone']\n"
          ]
        }
      ],
      "source": [
        "# Third step: Removing stop words like 'this, the'\n",
        "# set function is generally used for long article to fasten process\n",
        "review1 = [word for word in review if not word in set(stopwords.words('english'))]\n",
        "print('Text after removing stop words')\n",
        "print(review1)"
      ]
    },
    {
      "cell_type": "code",
      "execution_count": null,
      "metadata": {
        "colab": {
          "base_uri": "https://localhost:8080/"
        },
        "id": "dLmShBqdjot2",
        "outputId": "0676db39-4f4a-4f07-bd13-ca0a33f61c01"
      },
      "outputs": [
        {
          "output_type": "stream",
          "name": "stdout",
          "text": [
            "After converting stemmer words\n",
            "['appl', 'get', 'swype', 'iphon', 'crack', 'iphon']\n"
          ]
        }
      ],
      "source": [
        "# Fourth step: converting stemming words\n",
        "from nltk.stem.porter import PorterStemmer\n",
        "ps = PorterStemmer()\n",
        "review = [ps.stem(word) for word in review1 if not word in set(stopwords.words('english'))]\n",
        "print('After converting stemmer words')\n",
        "print(review)"
      ]
    },
    {
      "cell_type": "code",
      "execution_count": null,
      "metadata": {
        "id": "gMu6aWQBjxDv"
      },
      "outputs": [],
      "source": [
        "# joining these words of list\n",
        "review2 = ' '.join(review)"
      ]
    },
    {
      "cell_type": "code",
      "execution_count": null,
      "metadata": {
        "colab": {
          "base_uri": "https://localhost:8080/"
        },
        "id": "yFYpKPfoj4Sj",
        "outputId": "3fda60a9-486b-4539-9927-2a094c19295d"
      },
      "outputs": [
        {
          "output_type": "stream",
          "name": "stdout",
          "text": [
            "appl get swype iphon crack iphon\n",
            "['appl get swype iphon crack iphon']\n",
            "[[1 1 1 2 1]]\n"
          ]
        }
      ],
      "source": [
        "# Creating the Bag of Words model\n",
        "corpus1 = []\n",
        "from sklearn.feature_extraction.text import CountVectorizer\n",
        "cv = CountVectorizer(max_features = 1500)\n",
        "print(review2)\n",
        "corpus1.append(review2)\n",
        "print(corpus1)\n",
        "X = cv.fit_transform(corpus1).toarray()\n",
        "print(X)"
      ]
    },
    {
      "cell_type": "code",
      "execution_count": null,
      "metadata": {
        "colab": {
          "base_uri": "https://localhost:8080/"
        },
        "id": "KCNXLwafj8hB",
        "outputId": "779b5c50-9bc8-4c93-e98c-6faaa7fd58e0"
      },
      "outputs": [
        {
          "output_type": "stream",
          "name": "stderr",
          "text": [
            "[nltk_data] Downloading package stopwords to /root/nltk_data...\n",
            "[nltk_data]   Package stopwords is already up-to-date!\n"
          ]
        },
        {
          "output_type": "stream",
          "name": "stdout",
          "text": [
            "appl get swype iphon crack iphon\n",
            "appl ad carrier support iphon announc\n",
            "hilari youtub video guy duet appl siri pretti much sum love affair http co exbnqji\n",
            "rim made easi switch appl iphon see ya\n",
            "realiz reason got twitter io thank appl\n",
            "current blackberri user littl bit disappoint move android appl iphon\n",
            "strangest thing siri said far sooo glad appl gave siri sens humor http co twaeudbp via happyplac\n",
            "great close person event appl tonight regent st store\n",
            "compani experi best custom servic asid zappo appl\n",
            "appli job appl hope call lol\n",
            "rt jamaicanidl lmao think appl onto someth magic die haha siri suggest find whore h\n",
            "lmao think appl onto someth magic die haha siri suggest find whore hide bodi lolol\n",
            "rt philliprowntre regist appl develop hope actual help greatli appreci\n",
            "wow great deal refurb ipad first gen model rt appl offer great deal refurbish st gen ipad http co ukwokbgd appl\n",
            "regist appl develop hope actual help greatli appreci\n",
            "current learn mandarin upcom trip hong kong gotta hand appl iphon uber use flashcard app\n",
            "come dark side gretcheneclark hey appl send free iphon publicli ceremoni burn blackberri\n",
            "hey appl send free iphon version publicli ceremoni burn blackberri\n",
            "thank appl find mac locat wipe stolen air smallvictori thievingbastard\n",
            "thank appl covent garden geniusbar replac macbook keyboard crack wristpad lunch break today warranti\n",
            "dailydealchat appl thank\n",
            "ipad replac bound playbook n f l team http co uxawkwf appl nytim\n",
            "appl good ipad\n",
            "appl siri eff amaz\n",
            "amaz new appl io featur http co jatfvfpm\n",
            "rt triplingo one featur educ app appl websit today sweet http co ywvbe z\n",
            "one featur educ app appl websit today sweet http co ywvbe z\n",
            "want someth done right go appl useless day yourdaysarenumb\n",
            "unexpect workshop iphon appl yesterday got awesom amount info notjustaboutthephon gamerchik\n",
            "lt io appl\n",
            "rt appl question bro rt ainteeentrippin get di iphon evo\n",
            "rt imightbewrong peopl bitch iphon think smartest phone ever happi\n",
            "peopl bitch iphon think smartest phone ever happi way go appl\n",
            "twitter ceo point appl corpor mentor io signup tripl http co gci iphn\n",
            "bu iphon thxx appl\n",
            "aze v appl umber appstor well done itun mobil devic talk desktop app\n",
            "nytim coach want see bring ipad http co j ftieng ipad appl set red red hut hut nfl wish ipad\n",
            "appl jiliv danielpink appl sell million iphon unit first weekend steve job brillianc live ever iphon rva\n",
            "bkad apolog appl\n",
            "appl download io prove popular user http co nshlfiux\n",
            "lmfao look argument siri ijustin appl http co vjl si\n",
            "incred million iphon ss day better iphon http co fmjxtmm appl iphon\n",
            "save hp unwant os help buy iphon seen light lol http co gup acz backchannel appl\n",
            "well appl fix io batteri drain problem replac iphon work like champ\n",
            "current order brand new macbook pro bahhh macbook year old miss time cc appl\n",
            "bless appl\n",
            "siri know dad mom brother girlfriend thank appl\n",
            "well least appl store amaz call wait music need\n",
            "sweet appl replac glass probono thank appl\n",
            "bad appl sell million iphon debut weekend bloomberg http co avsl ygu smartphon sm rt vinodrad\n",
            "love new technolog appl iphon mac air icloud unreal technolog\n",
            "love new io updat appl\n",
            "anoth mention appl store http co fiioapkt rt floridamik get great custom servic appl store\n",
            "time go get iphon look forward stick man longer pay text thank appl\n",
            "hey appl hate comput need mack wanna send free one\n",
            "thank appl new gf iphon great everyth\n",
            "icloud set flawless work like champ cloud appl\n",
            "wisconsin mommi appl total email compani alway get great servic appl store\n",
            "appl love new io upgrad iphon\n",
            "nice appl tech support guy fix itouch\n",
            "get great custom servic appl store millenia mall\n",
            "io faster ipad appl\n",
            "love appl imac even though seen hubbi day geek\n",
            "make switch android appl iphon iphon smartphon stevejob appl store http co kj pjvkh\n",
            "thank incred peopl appl go beyond offer replac water damag macbook pro wow\n",
            "play man love camera iphon well done appl fb http co tmdfqre\n",
            "yeah appl io readinglist chang life nowicanspendevenmoretimeonmyphon\n",
            "appl safari reader own worldwid web\n",
            "love appl servic case crack x go hand case walk\n",
            "twitterpeopleiwouldliketomeet coollik thegadgetshow thelittleappkid jon laker benruberi appl twitter fxhomehitfilm\n",
            "said laid next year appl job last iphon iphon iphon g magic http co dxxklubp\n",
            "kind excit way last class right go appl store buy macosc snow leopard lion\n",
            "use blackberri yr disrupt lost gig thx servic im move appl iphon\n",
            "appl sell million iphon day appl keep well http co zzc w\n",
            "yessss lovin iphon updat especi slide bar top screen good job appl\n",
            "million weekend iphon per second mad appl\n",
            "appl got invest macbook pro next year time get sell android gear\n",
            "iancollinsuk appl like\n",
            "sent grandma post card use cardsapp thank appl\n",
            "sorri blackberri move appl\n",
            "kostatsetseka appl put wash kind equival blend glad hear still aliv\n",
            "launder ari iphon finest moment dri bag organ rice day boot appl\n",
            "bravo appl http co bgotzj k\n",
            "god bless youtub appl appletv bad ass system love princessofchina gb coldplay rihanna\n",
            "twitter day smash iphon appl nice gave new one\n",
            "thank appl io email pop lock screen open unlock\n",
            "one word wow rt jldavid iphon first weekend sale top four million http co zx pw gt via appl\n",
            "good iphon well today thank god appl\n",
            "rt mn nova love io easter egg pull middl top bottom see pull awesom littl featur io appl\n",
            "love io easter egg pull middl top bottom see pull awesom littl featur io appl\n",
            "love io easter egg pull middl top bottom see pull awesom littl featur appl lovemyiphon\n",
            "updat io start use cloud servic pretti bad ass appl iphon gs still champ\n",
            "gone run beauti morn man love io appl iphon\n",
            "appl simpli best\n",
            "must admit appl made happi camper text tone lol ring tone makemeproud drake ver text tone nicki\n",
            "day thank great custom servic receiv today appl via phone cs new phone way daysofgr\n",
            "appl replac phone free\n",
            "love new ipod updat appl\n",
            "alexlindsay wife upgrad iphon think siri alon worth upgrad look forward appl continu enhanc siri\n",
            "rt tomkeen thx instagram thx appl hypo tri x http co bppjwncp\n",
            "stevejob honor tonit appl truli great loss world miss\n",
            "thx instagram thx appl hypo tri x http co eejhbt\n",
            "love new iphon thank appl io\n",
            "love much thank appl http co ui loezx\n",
            "appl iphon great geniu\n",
            "appl card app notifi card sent arriv local post offic deliv today sunday truli magic\n",
            "love new appl updat think get better somehow simplifi life right appl\n",
            "appl siri amaz\n",
            "rygurl need appl iphon siri\n",
            "meet siri new iphon butler click link amaz http co lvffdcel appl\n",
            "use work pc never ever get feel worst speaker ever appl spoil imamac\n",
            "appl http co iaa\n",
            "appl got new io upgrad imessag good luck surviv blackberri\n",
            "love io awesom appl\n",
            "rt mattyriesz kathrynye right iphon must addict welcom appl club\n",
            "thank appl innov exhibit guy play facetim instead watch game sport bar http co ou k ge\n",
            "blackberri boo hiss appl wuhu berri power technolog actual work\n",
            "appl far best ipod first time iphon ever good job guy\n",
            "thank steve appl store th av http co nsaisrip\n",
            "appl siri witchcraft next googleresearch yr lead lost\n",
            "appl io sweet notif phone search cover mail wifi sync icloud backup integr twitter well done\n",
            "rt katebett anoth great jame stewart stori today ny time import architectur appl retail success http\n",
            "anoth great jame stewart stori today ny time import architectur appl retail success http co kniz\n",
            "lt appl http co ondxwper\n",
            "welcom twitter world markstuv due io appl thank guy\n",
            "impress servic appl geniu bar metro centr power cabl replac free n book screen replac free\n",
            "rt deb lavoy nice guy appl store replac phone grati show hairlin crack screen thank appl\n",
            "nice guy appl store replac phone grati show hairlin crack screen thank appl\n",
            "iphon batteri last longer day happen sinc edg iphon nice job appl\n",
            "would taken min write blackberri thank u appl convert show grass greener\n",
            "rt herahussain rickysinghpt got new backsid eye phone v impress appl\n",
            "rickysinghpt got new backsid eye phone v impress appl\n",
            "iphon space http co jinnhvwz amaz creativ appl product inspir peopl unbeliev thing\n",
            "thank appl make ipad feel like new new io\n",
            "ibertaddigit tv ipad briliant stevejob produck http co ohfli appl present http co dbbwsdpx\n",
            "use awsom ipad love love macbook ipod amaz love appl\n",
            "appl io upgrad done much better featur featur requir\n",
            "new io updat best ilovey appl\n",
            "final got iphon thank appl stupid att learn lesson\n",
            "absolut love iphon thank steve appl\n",
            "appl invent product actual get brother call parent get go amaz siri ipod\n",
            "dammit listen siri make want upgrad well play appl\n",
            "creat new folder within photo album io final thank appl thorn side newfeatur\n",
            "video card kimari workstat die six month long hp hello appl\n",
            "blackberri facebook u r realli make throw blackberri trash get appl iphon facebook upload issu\n",
            "io updat submit appl thank support\n",
            "awesom servic appl store pc thank chri\n",
            "rt ne appl thank fix http co wtj ogdo\n",
            "crazi io photo crop best appl\n",
            "appl thank fix http co wtj ogdo\n",
            "hell ye got contact back thank appl\n",
            "rt sawyerhartman fu king love appl phone best thing ever siri best thing ever made\n",
            "appl chang life\n",
            "mad prop appl employe charg replac back plate iphon made day\n",
            "jonsibley actual appl mous pretti sweet man\n",
            "iphon amaz siri voic recognit absolut step previou attempt bravo appl\n",
            "final got appl iphon thank sprint get time\n",
            "io nice thank appl\n",
            "good support fm kevin appl bellevu store biz custom ty\n",
            "download io better expect thankyou appl\n",
            "wow love new appl updat touch cool well done\n",
            "appl siri amaz love\n",
            "love love love io appl\n",
            "rt cjwallac appar appl put mb cap sm new updat mb storag tell inbox full w\n",
            "rt jewelz mashabl appl iphon r expens went w htc galaxi custom loyalti w phone comp\n",
            "mashabl appl iphon r expens went w htc galaxi custom loyalti w phone comp\n",
            "kill appl http co jw z c rip appl\n",
            "appl tune go iphon iphon lone without silli io\n",
            "appl need hurri releas itunesmatch\n",
            "siri alway appl\n",
            "need exchang cord appl store wait geniu appl\n",
            "appl airdrop fail immedi declin request everi time\n",
            "good articl appl fuck lion futur http co zndp vr fb\n",
            "rt radlerc yellowg iphon user complain yellow tint screen http co uaqrxtnk appl iphon\n",
            "yellowg iphon user complain yellow tint screen http co uaqrxtnk appl iphon\n",
            "one iphon featur still miss sinc appl first show contact pictur contact list simpl yet major updat miss\n",
            "ask siri dream electr sleep disappoint snippi answer miss opportun appl\n",
            "paulen surpris appl throw error alert author author comput button\n",
            "lisa mari shhhh evil sith lord appl may hear ha\n",
            "fuck appl die fuck blaze inferno\n",
            "oh appl steve obvious noth iphoto perfect opposit insan great get fix pleas\n",
            "omg appl fuck delet music dick\n",
            "ryanbaldwin appl itun go store gt authoris auto authoris sign itun grrrr\n",
            "serious absolut of clue appl mean author\n",
            "boy could appl make harder put purchas music cloud new macbook pro must author comput\n",
            "shit shit shit io updat ate app data media like appl said would go take time rebuild\n",
            "appl u cannot tell least gb iphon la vega give fuck break\n",
            "love appl download hour pad wonki ripstevejob thenonsensepersist neednewipadguid fatfuckingch\n",
            "dear appl new air notbook sinc updat kill wifi bug destroy product\n",
            "done att appl profit lack custom servic fuck\n",
            "would great appl would send new phone frustrat\n",
            "appl thank ruin gs io turn phone utterli useless pile shit\n",
            "rogerweir option replac iphon sure want one duff iphon iphon appl\n",
            "appar appl put mb cap sm new updat mb storag tell inbox full\n",
            "know appl almost week sinc paid itun match would realli like use eta fix\n",
            "remov appl shit\n",
            "phoenixswing iphon give hella hard time w io updat appl\n",
            "suck hello appl rt phonedog aaron interest note droid razr batteri remov\n",
            "appl send iphon preorder hr launch can send jackass want shoot blend em\n",
            "gotta say appl itouch iphon shuffl etc sound qualiti aw pain crap downgrad soni sound qualiti wise\n",
            "bisquiat appl upgrad slow phone much stuck half time uch thank damag suck\n",
            "mayati think appl thorough job step x step upgrad move icloud cost mightili\n",
            "hey appl io iphon includ song compil album artist name whaddupwitdat\n",
            "nickthefnicon send rcve txt apt appl pm exclaim wait whole year phone lmao\n",
            "total chao appl store regent street like ethiopian feed station believ co make cool shit\n",
            "fishmama made purchas wait appl survey hate go b c bad custserv\n",
            "correct best buy kudo chri alamo ranch tx fix issu resolv day w att appl hero day\n",
            "phxguy appl bgr ppl stand line hr get newest model sucker\n",
            "would kill appl put braill type bump earbud know bud r l dark\n",
            "appl wow motorola crush dream\n",
            "rt phxguy oh fuck appl alreadi gt iphon schedul summer launch http co ofh ptag via bgr\n",
            "oh fuck appl alreadi gt iphon schedul summer launch http co ofh ptag via bgr\n",
            "appl wait thursday avail appoint geniu tell shit luck\n",
            "wtf appl new io allow get push notif newstand siri keep yap fuck\n",
            "appl ipad io messag icon includ use\n",
            "steelo yea pre order appl sorri like\n",
            "interest appl requir reserv appl iphon http co zzk ftii\n",
            "appl iphon batteri crappi fail\n",
            "appl macbook keyboard type\n",
            "appl icloud sync sticki alway around noth everi progress w appl gruber\n",
            "appl new save version function page absolut aw interrupt counter intuit piec crap world\n",
            "hate appl comput that dollar drain\n",
            "appl iphon charg slowli\n",
            "appl io gm ipad slow wash better beta solv problem give ipad\n",
            "appl wish could pick month day year set new calendar item iphon new io fix yet\n",
            "appl itun worst program ever great phone make aw softwar\n",
            "one would think voic recognit appl tech support line would work littl better\n",
            "appl repair ipad appl lost year android come\n",
            "aze v appl umber proper consolid proper sync stop lose purchas item checkbox think\n",
            "asimrang appl umber desktop app wack though\n",
            "made reserv yet still wait line humpt oh appl appl store w other http co jzmvbdnm\n",
            "frustrat bought new macbook pro appl find doesnt ship media expensivepaperweight\n",
            "dear appl turn awesom featur enabl data plan handl mb data\n",
            "dontbemadatmebecaus android far better appl\n",
            "appl problem io prevent audio app audio function oper properli keep lose sound\n",
            "appl appl one thing hater mous butteri finish fast happi macworld macworld http co uh vt\n",
            "hey appl stop send automat depreci iphon older signal iphon die rapidli processor wise\n",
            "thing bad new canon camera two compact flash card one sd sd goe appl comput damn\n",
            "wtf appl page new term condit u updat ur app itun store u realli think read em realli\n",
            "fuck u appl\n",
            "oh prolli ganna late work bc appl screw phone alarm\n",
            "fuck dose phone decid ganna freez everi time tri updat fuck sick appl\n",
            "u need text wait u wont get cuz appl fuck everi time fuckingpiss\n",
            "imessag show time messag sent annoy appl\n",
            "like appl da fuck shit http co nb dhlsg\n",
            "rt circustk wit chu shaydiddi offici boycot up call appl curs next use wast\n",
            "damn appl whatchu done phone\n",
            "samsung seek iphon ban japan australiapat war intensifi injunct sought appl http co qmwjtvnk\n",
            "appl everi time io softwar updat ipad goe dead need total restor fail\n",
            "appl io noth pain ass room music photo app undo garbag\n",
            "appl reserv system work show product avail let alon iphon site open browser pm noth\n",
            "rt reddeersteph joelplan appl hear troubl even turn bright andshuttingdownru\n",
            "joelplan appl hear troubl even turn bright andshuttingdownrunningprogram nohelp\n",
            "albertm rememb appl evil icloud enter dropbox market\n",
            "know other issu rt joelplan second full charg day piss appl\n",
            "second full charg day piss appl\n",
            "rt shaydiddi circustk up appl bs u tell go certain time muh fuh close\n",
            "wit chu shaydiddi offici boycot up call appl curs next use wast time\n",
            "ugh appl your reserv page iphon work\n",
            "itun appl worst product wors newton hockey puck mous utterli pain use\n",
            "der icloud hate u hope die worst fuck invent world fuck youuuuuuuuuuuu icloud appl stevejob\n",
            "updat io lose everyth phone wont let sign itun account thank appl\n",
            "suddenli lost address book gs iphon someon use appl id fuck\n",
            "oh iphon overcapac huh appl let great\n",
            "issu updat itun window pc realli compat sent time talk appl care use\n",
            "appl u guy gay\n",
            "restor iphon still text dear appl love restrict sm text io io atemydingo\n",
            "none app work new io appl\n",
            "seemingli endless loop call appl up verizonwireless investig miss iphon crankywithnophon\n",
            "wisconsin mommi appl terribl hope get apolog\n",
            "zombiebomb phone verizonwireless appl pretti much ever sinc realli annoy\n",
            "chascouponmom appl get busi w new phone want buy stylu made wait forev outsid never\n",
            "appl iphon pleas deliv daughter drive nut iphon\n",
            "sprint bestbuy still word iphon preorder best buy blame sprint sprint blame appl want honest answer help\n",
            "hey appl sm full messag complet shit ye annoy\n",
            "never poor custom servic appl happen appl store w other http co gklxmui\n",
            "appl servic experi realli fuck slip except cute eyelash bat girli appl store http co dohdenmg\n",
            "ipa hour jailbrok shag itun letm restor appl sym\n",
            "hailfir irvysan appl happen snatch siri could douchebag say\n",
            "appl think make siri total depend network connect siri att utter frustrat\n",
            "wow geniu bar reserv line appl ridic right amus ugh\n",
            "iphon appl\n",
            "appl batteri life suck io\n",
            "appl updat seem render work machin incap open hdv video thank appl zero use product today\n",
            "appl commit cloud storag idisk rain soon idisk plan new servic storag\n",
            "hey appl share remind list iphon also login icloud webpag modifi share phone\n",
            "appar fuzzbal crash io congratul appl anoth incompat upgrad\n",
            "could appl lion pleas integr vertic space mission control horizont busi make nauseou\n",
            "someon plz explain whhyy appl distribut phone per day sprint store realli http co uf tak f\n",
            "gah appl io open text messag pain slow top restor attempt succeed earli adopt get better\n",
            "dear appl pdf epub file disappear ibook iphon post io upgrad hurt gs needsomethingtoread\n",
            "cbm lie appl batteri new iphon definit better lt lt check set time app usag io\n",
            "huge podcast fan realli feel like appl drop ball one http co wvzprbci via carrypad\n",
            "realli like siri voic perhap appl get star war voic like garmin http co psujg pn\n",
            "carlton realli hate deal brain dead peopl appl store good product custom servic suck nz\n",
            "realli hate deal brain dead peopl appl store good product custom servic suck\n",
            "make photo album photo app io password protect um appl fix quickli\n",
            "anyon els see miss signal bar iphon gs upgrad io cc applecanada appl forstal\n",
            "rt cbm lie appl batteri new iphon definit better\n",
            "appl want know custom think dont send updat norepli return address invent anyway useless\n",
            "everi time tri voic control ipod touch send imessag start play knew pink still flawless appl\n",
            "studi work hold appl hurri fuck nopati\n",
            "ok hindi keyboard io someth cheer appl support miss indian languag fail\n",
            "rt scottduga warn iphon app spontan loos data might app fault http co sesvwwm io downgrad\n",
            "betweensunday ah yeah option hope appl figur thx\n",
            "wait item copi itun everyth copi goe come appl hell\n",
            "appl unhappi servic product qualiti buy appl\n",
            "lie appl batteri new iphon definit better\n",
            "philipgrey dear appl gotta go chang way lt input type number gt handl blue\n",
            "hold appl custom servic minut wow lt like timewarnerc\n",
            "anyon els stuck dupe calendar mail batteri suck appl hell icloud osx lion disappoint\n",
            "inventor comput mous appl never made one complet piec fuck shit\n",
            "appl kill excit io longer tragic batteri drain geniu bar want replac batteri realli\n",
            "st impress io disappoint w upgrad restor lot app folder miss appl much time went org fail\n",
            "prjusto question appl rememb dissent\n",
            "appl multipl time siri troubl connect network siri need server exercis\n",
            "imessag still work appl\n",
            "rt jimmcniel appl resolv siri network issu need renam great product sorri els havin\n",
            "dear appl gotta go chang way lt input type number gt handl blue\n",
            "ugh wtf bottleneck paypal appl\n",
            "rt doug newton appl pleas fix siri connect network\n",
            "appl pleas fix siri connect network\n",
            "appl resolv siri network issu need renam great product sorri els issu\n",
            "chanc appl releas good headphon dont blast music outsid ear iphon ipod quit obnoxi\n",
            "appl siri work due network problem serious fix iphon fail\n",
            "trisha ps icloud cloudi appl tech techi\n",
            "electricsoup connect appl process command fail right\n",
            "see appl happen releas iphon crappi design old phone\n",
            "rt bonkoif look like appl appropri project resourc need siri reliabl\n",
            "look like appl appropri project resourc need siri reliabl\n",
            "spoke appl rep phone could hear tv blare bg said actual help u direct u back web\n",
            "wrong siri today appl\n",
            "appl siri\n",
            "suspect appl time health declin iphon perfectli iphon releas batteri serious ail\n",
            "hold anoth half hour phone ring one pick appl stink\n",
            "ok appl softwar updat iphon take waaaaay long annoy\n",
            "appl would better inform custom properli migrat icloud mani complaint lead imag damag http co ql zmppo\n",
            "appl io rape batteri life use phone lot sinc get\n",
            "jane gazmaz hope small bug appl must fix right appl itjustwork\n",
            "samsung appl realis realli piss custom base well look petti\n",
            "appl app updat origin folder locat pain\n",
            "appl domain fail open hr late walk ppl store empti need skin screen repres custom servic fail\n",
            "brianmincey appl chipset tear batteri life cowork htc thunderbolt get hour life\n",
            "wish appl updat would stop tri ram itun throat piss iphon appl\n",
            "iphon run slower sinc io updat appl verizon\n",
            "search voic year old nexu one appl\n",
            "appl updat server time week forc restor w new io softwar lost stuff thank\n",
            "appleupd success stori iphon ipad phone appl min ipad wast time appl replaceit\n",
            "thank minut wait hold half hour actual talk someon appl tech decid send email fix phone\n",
            "upset inconvenienc iphon updat fail backup iphon appl\n",
            "serious appl financ damn phone greedi bastard santa get jolli ass gear get us white plz\n",
            "schedul busi spend unqual time att appl recov iphon mo mobil get mo immobil sync\n",
            "ponder io updat sound mikeferri difficulti may hold appl fix\n",
            "twalv appl know issu dst alarm p\n",
            "book appl geniu bar hour still serv disappoint appl store sydney thanksfornoth\n",
            "appar appl geniu train extend clock servic half hour late appoint let know\n",
            "screw appl io download crap tire tri get problem figur connect time\n",
            "wow icloud mail st io upgrad issu realli hope appl without steve job\n",
            "appl guy test upgrad put hr u guy wast time yesterday thank\n",
            "go appl product first ipad freez still frozen iphon turn techietroubl\n",
            "ipad perpetu restor loop tri upgrad io appl sux without steve\n",
            "nd appl geniu apptment run late nd day row nd dodgi ipod make mega hire staff\n",
            "took appl year figur properli syncron iphon wow io\n",
            "appl went th ave store told could wait hour get needless say back hotel relax\n",
            "overal fan iphon howev siri issu connect network appl\n",
            "terribl custom servic lo gato appl pay bad home button iphon\n",
            "appl thank suck much cannot believ would sell someth onlin made\n",
            "major batteri drain issu sinc updat iphon io anyon els appstor iphon appl\n",
            "dear appl pleas send mac book back sure repair done thank\n",
            "appl thank io love music break like talk mobil cell phone bring back function iosdonwgrad\n",
            "appl io iphon caus camera apperatur dilat problem freez\n",
            "appl io geoloc suburb word drop map pin state pleas fix\n",
            "sorri appl imessag never bbm disappoint\n",
            "iphon siri work shit appl\n",
            "clarenc thoma must design new osx lion toss decad workflow standard appl bring back save autosavesuck\n",
            "offici hate appl fix damn itun\n",
            "dear appl staff littl rock store answer first question know hard question\n",
            "semilshah yeah except ask receipt take minut figur print fix appl\n",
            "rt jdougyj hey appl wanna fix fuck playlist order piec shit\n",
            "bummer yahoo ipad fantasi footbal app keep crash sure app new appl io two app run\n",
            "appl suck dick gotta restor ipad annoy\n",
            "line appl stupid\n",
            "nansen man sux appl io upgrad total fail\n",
            "dear appl contact terribl clean duplic hour magic reappear fix\n",
            "much ask app incompat appl http co ykqip nk\n",
            "piss whoever design keyboard appl home end key work cli use key often\n",
            "novatyl appl mine gone recov save b upgrad iphon soooo piss\n",
            "hey appl wanna fix fuck playlist order piec shit\n",
            "siri hard time rememb sister contact card need space famili info iphon appl\n",
            "io get sloppi appl u need check qa team mani issu app data sync\n",
            "rt nansen sm full messag known appl issu new io updat tri restor els fail restor\n",
            "glad paid appl care protect plan hold minut great custom servic\n",
            "happi appl right upgrad itouch took itouch laptop help\n",
            "say appl right goodridd see cancer bad\n",
            "twitter look problem ipad open messag crash app appl mayb fault\n",
            "appl point icloud wireless updat io forc use comput charg ipod touch worstupdateev\n",
            "robert terpstra worri bud ps say lot network issu right appl mac problem\n",
            "hate appl send toledooh bestbuy iphon verizon even pre order\n",
            "pmphillip appl non appl equip broke often guess need asu geniu bar\n",
            "new appl iphon os duplic ical event everyth fix tri turn icloud\n",
            "dear appl conveni handi thought smart iphon io updat app work anymor none gr mbl\n",
            "hey appl know steve job die twitter ipad app keep crash fix pleas lol f light\n",
            "appl happi appl today suggest softwar updat noth work\n",
            "smash yet anoth iphon screen appl gonna make phone durabl tire fix\n",
            "io one problem save someon contact show nam becuz region appl appl\n",
            "sure hell better abl restor calendar event terribl bug appl appl icloud anothericloudfail\n",
            "realli hate appl let hide newsstand app move folder serv purpos\n",
            "life much easier appl blackberri fruit\n",
            "appl locat remind ipad point updat io\n",
            "compar offic live googl app appl icloud see icloud lead crowd agre\n",
            "rt mikeferri appl fix io week buy droid emptythreat\n",
            "turn comput fix meant fuck appl go back geniu bar complain annoy\n",
            "appl fix io week buy droid emptythreat\n",
            "appl pl launch siri iphon disappoint spend hour upgrad io\n",
            "appl suck fuck iphon better glad like caus servic fuck terribl\n",
            "first time unhappi appl product disappoint internet seem confus right\n",
            "week appl io consid go back jailbroken featur plu stabl though\n",
            "issu siri reach network today mani use signal appl\n",
            "new io complet fail upgrad phone stuck restor loop thank appl wast day undo\n",
            "iphon run littl warm sometim appl\n",
            "appl wtf add newsstand folder alreadi wall garden pleas remind us\n",
            "appl see none microsoft offic program work anymor lion upgrad\n",
            "dear appl want newsstand icon screen notcool\n",
            "blackberri take better qualiti photo appl iphon though give photograhersey\n",
            "ok itunesmus idk wth sync phone album art order wtf appl\n",
            "wish siri could tweet appl fix\n",
            "appl still wait deliv phone sprint\n",
            "never purchas anoth appl product rest life glad steve job fuck dead may fuck rot hell\n",
            "thank appl new imac brick cannot instal lion cannot purchas instal former owner\n",
            "ask siri babi lisa told sorri troubl connect network right appl server fail io\n",
            "thing io done delet tiger wood game made imposs retriev thank appl\n",
            "damn appl break wififofum continu work io one use app damn appl overbear polici\n",
            "yo appl updat disast\n",
            "dear applecongratul su insur compani manag make top shit list ineedthosepictur\n",
            "dear appl must let turn icloud save bandwidth delet everi document ipad bullshit\n",
            "rt joelburn dear appl thank beauti new io featur miss old one lk make call text gt\n",
            "far worst experi upgrad version io appl io\n",
            "happen rt xcuntnuggetx never purchas anoth item appl\n",
            "never purchas anoth item appl\n",
            "rt leiboaz wow worst appl custom servic experi ever arrog inept bad combo biltmor appl store\n",
            "wow worst appl custom servic experi ever arrog inept bad combo biltmor appl store\n",
            "hey guy appl wtf happen iphon io suddenli fade black begin vibrat continu reboot\n",
            "hbogo appl play nice let use hdmi ipad pretti lame\n",
            "warn iphon app spontan loos data might app fault http co sesvwwm io downgrad appl marcoar\n",
            "first imag photo roll made serious appl fuck much\n",
            "appl iphon plu io equal half batteri life\n",
            "appl itun updat wanna updat iphon io itun say need updat fail\n",
            "appl let use credit itun unless credit card told redeem card sound fair\n",
            "amandbrar appl siri work less time servic improv monday return iphon\n",
            "azrael rt davidegori mobilem issu sync access mail good premis icloud appl\n",
            "need appl help instal new io iphon stuck find iphon screen keep click next work\n",
            "bummer appl icloud sync window w outlook thunderbird ie firefox chrome sadmac\n",
            "disappoint visual merchandis appl simpl lack eleg sequenc even tell us siri http co xv q gfi\n",
            "termin hold appl support must person troubl new iphon synch\n",
            "appl thank appl io lose contact\n",
            "appl give app back\n",
            "appl io nonstop drop call mute button randomli activ person cant hear pull phone ear mobil screen\n",
            "rt tomcolontonio occur appl appl ppl share itun account amongst famili wtf\n",
            "tomcolontonio appl epicfail\n",
            "minut iphon post io upgrad lost charg appl store folk idea\n",
            "cut cord make podcast even harder manag subscript wth appl http co ld x io via carrypad\n",
            "less hour post io iphon gone batteri charg appl store folk solut\n",
            "well appl seem b screw iphon resellar still dont yet promis similar bell monopolist prctice\n",
            "also ericgreenspan forget appl stop close app store bloodi purchas\n",
            "appl cu\n",
            "sigh appl store seem stump catastroph bad batteri life upgrad io\n",
            "hmmmm lot siri featur work canada locat direct serious appl come\n",
            "appl siri connect network less use voicecontrol\n",
            "appl took siri made exclus iphon sorud\n",
            "total time phone appl hour minut let see goe\n",
            "wait line noth fuck geniu appl call app john jean stop fuck name im french boy pcam\n",
            "dear appl one day go releas version itun freez often work one day\n",
            "hr sinc report up theft iphon appl done noth return call promis noth\n",
            "bode well charg night appl iphon batteri hr charger call light use\n",
            "houston problem ipad restor hour instal appl io right\n",
            "siri went littl last night come appl get shit togeth launch\n",
            "ford team appl instead microsoft make sync system new focu car sweet sync epicfail\n",
            "rt gdcurri realli appl done itun click music movi tv show playlist get l\n",
            "damn appl\n"
          ]
        }
      ],
      "source": [
        "# Cleaning the texts for all review using for loop\n",
        "import re\n",
        "import nltk\n",
        "nltk.download('stopwords')\n",
        "from nltk.corpus import stopwords\n",
        "from nltk.stem.porter import PorterStemmer\n",
        "corpus = []\n",
        "for i in range(0, dataset.shape[0]):\n",
        "    review = re.sub('[^a-zA-Z]', ' ', dataset.iloc[:,0][i])\n",
        "    review = review.lower()\n",
        "    review = review.split()\n",
        "    ps = PorterStemmer()\n",
        "    review = [ps.stem(word) for word in review if not word in set(stopwords.words('english'))]\n",
        "    review = ' '.join(review)\n",
        "    print(review)\n",
        "    corpus.append(review)"
      ]
    },
    {
      "cell_type": "code",
      "execution_count": null,
      "metadata": {
        "colab": {
          "base_uri": "https://localhost:8080/"
        },
        "id": "KQ6y-jokkF4x",
        "outputId": "dd944cb1-3457-4917-fb39-0528bda5abe1"
      },
      "outputs": [
        {
          "output_type": "stream",
          "name": "stdout",
          "text": [
            "['appl get swype iphon crack iphon', 'appl ad carrier support iphon announc', 'hilari youtub video guy duet appl siri pretti much sum love affair http co exbnqji', 'rim made easi switch appl iphon see ya', 'realiz reason got twitter io thank appl', 'current blackberri user littl bit disappoint move android appl iphon', 'strangest thing siri said far sooo glad appl gave siri sens humor http co twaeudbp via happyplac', 'great close person event appl tonight regent st store', 'compani experi best custom servic asid zappo appl', 'appli job appl hope call lol', 'rt jamaicanidl lmao think appl onto someth magic die haha siri suggest find whore h', 'lmao think appl onto someth magic die haha siri suggest find whore hide bodi lolol', 'rt philliprowntre regist appl develop hope actual help greatli appreci', 'wow great deal refurb ipad first gen model rt appl offer great deal refurbish st gen ipad http co ukwokbgd appl', 'regist appl develop hope actual help greatli appreci', 'current learn mandarin upcom trip hong kong gotta hand appl iphon uber use flashcard app', 'come dark side gretcheneclark hey appl send free iphon publicli ceremoni burn blackberri', 'hey appl send free iphon version publicli ceremoni burn blackberri', 'thank appl find mac locat wipe stolen air smallvictori thievingbastard', 'thank appl covent garden geniusbar replac macbook keyboard crack wristpad lunch break today warranti', 'dailydealchat appl thank', 'ipad replac bound playbook n f l team http co uxawkwf appl nytim', 'appl good ipad', 'appl siri eff amaz', 'amaz new appl io featur http co jatfvfpm', 'rt triplingo one featur educ app appl websit today sweet http co ywvbe z', 'one featur educ app appl websit today sweet http co ywvbe z', 'want someth done right go appl useless day yourdaysarenumb', 'unexpect workshop iphon appl yesterday got awesom amount info notjustaboutthephon gamerchik', 'lt io appl', 'rt appl question bro rt ainteeentrippin get di iphon evo', 'rt imightbewrong peopl bitch iphon think smartest phone ever happi', 'peopl bitch iphon think smartest phone ever happi way go appl', 'twitter ceo point appl corpor mentor io signup tripl http co gci iphn', 'bu iphon thxx appl', 'aze v appl umber appstor well done itun mobil devic talk desktop app', 'nytim coach want see bring ipad http co j ftieng ipad appl set red red hut hut nfl wish ipad', 'appl jiliv danielpink appl sell million iphon unit first weekend steve job brillianc live ever iphon rva', 'bkad apolog appl', 'appl download io prove popular user http co nshlfiux', 'lmfao look argument siri ijustin appl http co vjl si', 'incred million iphon ss day better iphon http co fmjxtmm appl iphon', 'save hp unwant os help buy iphon seen light lol http co gup acz backchannel appl', 'well appl fix io batteri drain problem replac iphon work like champ', 'current order brand new macbook pro bahhh macbook year old miss time cc appl', 'bless appl', 'siri know dad mom brother girlfriend thank appl', 'well least appl store amaz call wait music need', 'sweet appl replac glass probono thank appl', 'bad appl sell million iphon debut weekend bloomberg http co avsl ygu smartphon sm rt vinodrad', 'love new technolog appl iphon mac air icloud unreal technolog', 'love new io updat appl', 'anoth mention appl store http co fiioapkt rt floridamik get great custom servic appl store', 'time go get iphon look forward stick man longer pay text thank appl', 'hey appl hate comput need mack wanna send free one', 'thank appl new gf iphon great everyth', 'icloud set flawless work like champ cloud appl', 'wisconsin mommi appl total email compani alway get great servic appl store', 'appl love new io upgrad iphon', 'nice appl tech support guy fix itouch', 'get great custom servic appl store millenia mall', 'io faster ipad appl', 'love appl imac even though seen hubbi day geek', 'make switch android appl iphon iphon smartphon stevejob appl store http co kj pjvkh', 'thank incred peopl appl go beyond offer replac water damag macbook pro wow', 'play man love camera iphon well done appl fb http co tmdfqre', 'yeah appl io readinglist chang life nowicanspendevenmoretimeonmyphon', 'appl safari reader own worldwid web', 'love appl servic case crack x go hand case walk', 'twitterpeopleiwouldliketomeet coollik thegadgetshow thelittleappkid jon laker benruberi appl twitter fxhomehitfilm', 'said laid next year appl job last iphon iphon iphon g magic http co dxxklubp', 'kind excit way last class right go appl store buy macosc snow leopard lion', 'use blackberri yr disrupt lost gig thx servic im move appl iphon', 'appl sell million iphon day appl keep well http co zzc w', 'yessss lovin iphon updat especi slide bar top screen good job appl', 'million weekend iphon per second mad appl', 'appl got invest macbook pro next year time get sell android gear', 'iancollinsuk appl like', 'sent grandma post card use cardsapp thank appl', 'sorri blackberri move appl', 'kostatsetseka appl put wash kind equival blend glad hear still aliv', 'launder ari iphon finest moment dri bag organ rice day boot appl', 'bravo appl http co bgotzj k', 'god bless youtub appl appletv bad ass system love princessofchina gb coldplay rihanna', 'twitter day smash iphon appl nice gave new one', 'thank appl io email pop lock screen open unlock', 'one word wow rt jldavid iphon first weekend sale top four million http co zx pw gt via appl', 'good iphon well today thank god appl', 'rt mn nova love io easter egg pull middl top bottom see pull awesom littl featur io appl', 'love io easter egg pull middl top bottom see pull awesom littl featur io appl', 'love io easter egg pull middl top bottom see pull awesom littl featur appl lovemyiphon', 'updat io start use cloud servic pretti bad ass appl iphon gs still champ', 'gone run beauti morn man love io appl iphon', 'appl simpli best', 'must admit appl made happi camper text tone lol ring tone makemeproud drake ver text tone nicki', 'day thank great custom servic receiv today appl via phone cs new phone way daysofgr', 'appl replac phone free', 'love new ipod updat appl', 'alexlindsay wife upgrad iphon think siri alon worth upgrad look forward appl continu enhanc siri', 'rt tomkeen thx instagram thx appl hypo tri x http co bppjwncp', 'stevejob honor tonit appl truli great loss world miss', 'thx instagram thx appl hypo tri x http co eejhbt', 'love new iphon thank appl io', 'love much thank appl http co ui loezx', 'appl iphon great geniu', 'appl card app notifi card sent arriv local post offic deliv today sunday truli magic', 'love new appl updat think get better somehow simplifi life right appl', 'appl siri amaz', 'rygurl need appl iphon siri', 'meet siri new iphon butler click link amaz http co lvffdcel appl', 'use work pc never ever get feel worst speaker ever appl spoil imamac', 'appl http co iaa', 'appl got new io upgrad imessag good luck surviv blackberri', 'love io awesom appl', 'rt mattyriesz kathrynye right iphon must addict welcom appl club', 'thank appl innov exhibit guy play facetim instead watch game sport bar http co ou k ge', 'blackberri boo hiss appl wuhu berri power technolog actual work', 'appl far best ipod first time iphon ever good job guy', 'thank steve appl store th av http co nsaisrip', 'appl siri witchcraft next googleresearch yr lead lost', 'appl io sweet notif phone search cover mail wifi sync icloud backup integr twitter well done', 'rt katebett anoth great jame stewart stori today ny time import architectur appl retail success http', 'anoth great jame stewart stori today ny time import architectur appl retail success http co kniz', 'lt appl http co ondxwper', 'welcom twitter world markstuv due io appl thank guy', 'impress servic appl geniu bar metro centr power cabl replac free n book screen replac free', 'rt deb lavoy nice guy appl store replac phone grati show hairlin crack screen thank appl', 'nice guy appl store replac phone grati show hairlin crack screen thank appl', 'iphon batteri last longer day happen sinc edg iphon nice job appl', 'would taken min write blackberri thank u appl convert show grass greener', 'rt herahussain rickysinghpt got new backsid eye phone v impress appl', 'rickysinghpt got new backsid eye phone v impress appl', 'iphon space http co jinnhvwz amaz creativ appl product inspir peopl unbeliev thing', 'thank appl make ipad feel like new new io', 'ibertaddigit tv ipad briliant stevejob produck http co ohfli appl present http co dbbwsdpx', 'use awsom ipad love love macbook ipod amaz love appl', 'appl io upgrad done much better featur featur requir', 'new io updat best ilovey appl', 'final got iphon thank appl stupid att learn lesson', 'absolut love iphon thank steve appl', 'appl invent product actual get brother call parent get go amaz siri ipod', 'dammit listen siri make want upgrad well play appl', 'creat new folder within photo album io final thank appl thorn side newfeatur', 'video card kimari workstat die six month long hp hello appl', 'blackberri facebook u r realli make throw blackberri trash get appl iphon facebook upload issu', 'io updat submit appl thank support', 'awesom servic appl store pc thank chri', 'rt ne appl thank fix http co wtj ogdo', 'crazi io photo crop best appl', 'appl thank fix http co wtj ogdo', 'hell ye got contact back thank appl', 'rt sawyerhartman fu king love appl phone best thing ever siri best thing ever made', 'appl chang life', 'mad prop appl employe charg replac back plate iphon made day', 'jonsibley actual appl mous pretti sweet man', 'iphon amaz siri voic recognit absolut step previou attempt bravo appl', 'final got appl iphon thank sprint get time', 'io nice thank appl', 'good support fm kevin appl bellevu store biz custom ty', 'download io better expect thankyou appl', 'wow love new appl updat touch cool well done', 'appl siri amaz love', 'love love love io appl', 'rt cjwallac appar appl put mb cap sm new updat mb storag tell inbox full w', 'rt jewelz mashabl appl iphon r expens went w htc galaxi custom loyalti w phone comp', 'mashabl appl iphon r expens went w htc galaxi custom loyalti w phone comp', 'kill appl http co jw z c rip appl', 'appl tune go iphon iphon lone without silli io', 'appl need hurri releas itunesmatch', 'siri alway appl', 'need exchang cord appl store wait geniu appl', 'appl airdrop fail immedi declin request everi time', 'good articl appl fuck lion futur http co zndp vr fb', 'rt radlerc yellowg iphon user complain yellow tint screen http co uaqrxtnk appl iphon', 'yellowg iphon user complain yellow tint screen http co uaqrxtnk appl iphon', 'one iphon featur still miss sinc appl first show contact pictur contact list simpl yet major updat miss', 'ask siri dream electr sleep disappoint snippi answer miss opportun appl', 'paulen surpris appl throw error alert author author comput button', 'lisa mari shhhh evil sith lord appl may hear ha', 'fuck appl die fuck blaze inferno', 'oh appl steve obvious noth iphoto perfect opposit insan great get fix pleas', 'omg appl fuck delet music dick', 'ryanbaldwin appl itun go store gt authoris auto authoris sign itun grrrr', 'serious absolut of clue appl mean author', 'boy could appl make harder put purchas music cloud new macbook pro must author comput', 'shit shit shit io updat ate app data media like appl said would go take time rebuild', 'appl u cannot tell least gb iphon la vega give fuck break', 'love appl download hour pad wonki ripstevejob thenonsensepersist neednewipadguid fatfuckingch', 'dear appl new air notbook sinc updat kill wifi bug destroy product', 'done att appl profit lack custom servic fuck', 'would great appl would send new phone frustrat', 'appl thank ruin gs io turn phone utterli useless pile shit', 'rogerweir option replac iphon sure want one duff iphon iphon appl', 'appar appl put mb cap sm new updat mb storag tell inbox full', 'know appl almost week sinc paid itun match would realli like use eta fix', 'remov appl shit', 'phoenixswing iphon give hella hard time w io updat appl', 'suck hello appl rt phonedog aaron interest note droid razr batteri remov', 'appl send iphon preorder hr launch can send jackass want shoot blend em', 'gotta say appl itouch iphon shuffl etc sound qualiti aw pain crap downgrad soni sound qualiti wise', 'bisquiat appl upgrad slow phone much stuck half time uch thank damag suck', 'mayati think appl thorough job step x step upgrad move icloud cost mightili', 'hey appl io iphon includ song compil album artist name whaddupwitdat', 'nickthefnicon send rcve txt apt appl pm exclaim wait whole year phone lmao', 'total chao appl store regent street like ethiopian feed station believ co make cool shit', 'fishmama made purchas wait appl survey hate go b c bad custserv', 'correct best buy kudo chri alamo ranch tx fix issu resolv day w att appl hero day', 'phxguy appl bgr ppl stand line hr get newest model sucker', 'would kill appl put braill type bump earbud know bud r l dark', 'appl wow motorola crush dream', 'rt phxguy oh fuck appl alreadi gt iphon schedul summer launch http co ofh ptag via bgr', 'oh fuck appl alreadi gt iphon schedul summer launch http co ofh ptag via bgr', 'appl wait thursday avail appoint geniu tell shit luck', 'wtf appl new io allow get push notif newstand siri keep yap fuck', 'appl ipad io messag icon includ use', 'steelo yea pre order appl sorri like', 'interest appl requir reserv appl iphon http co zzk ftii', 'appl iphon batteri crappi fail', 'appl macbook keyboard type', 'appl icloud sync sticki alway around noth everi progress w appl gruber', 'appl new save version function page absolut aw interrupt counter intuit piec crap world', 'hate appl comput that dollar drain', 'appl iphon charg slowli', 'appl io gm ipad slow wash better beta solv problem give ipad', 'appl wish could pick month day year set new calendar item iphon new io fix yet', 'appl itun worst program ever great phone make aw softwar', 'one would think voic recognit appl tech support line would work littl better', 'appl repair ipad appl lost year android come', 'aze v appl umber proper consolid proper sync stop lose purchas item checkbox think', 'asimrang appl umber desktop app wack though', 'made reserv yet still wait line humpt oh appl appl store w other http co jzmvbdnm', 'frustrat bought new macbook pro appl find doesnt ship media expensivepaperweight', 'dear appl turn awesom featur enabl data plan handl mb data', 'dontbemadatmebecaus android far better appl', 'appl problem io prevent audio app audio function oper properli keep lose sound', 'appl appl one thing hater mous butteri finish fast happi macworld macworld http co uh vt', 'hey appl stop send automat depreci iphon older signal iphon die rapidli processor wise', 'thing bad new canon camera two compact flash card one sd sd goe appl comput damn', 'wtf appl page new term condit u updat ur app itun store u realli think read em realli', 'fuck u appl', 'oh prolli ganna late work bc appl screw phone alarm', 'fuck dose phone decid ganna freez everi time tri updat fuck sick appl', 'u need text wait u wont get cuz appl fuck everi time fuckingpiss', 'imessag show time messag sent annoy appl', 'like appl da fuck shit http co nb dhlsg', 'rt circustk wit chu shaydiddi offici boycot up call appl curs next use wast', 'damn appl whatchu done phone', 'samsung seek iphon ban japan australiapat war intensifi injunct sought appl http co qmwjtvnk', 'appl everi time io softwar updat ipad goe dead need total restor fail', 'appl io noth pain ass room music photo app undo garbag', 'appl reserv system work show product avail let alon iphon site open browser pm noth', 'rt reddeersteph joelplan appl hear troubl even turn bright andshuttingdownru', 'joelplan appl hear troubl even turn bright andshuttingdownrunningprogram nohelp', 'albertm rememb appl evil icloud enter dropbox market', 'know other issu rt joelplan second full charg day piss appl', 'second full charg day piss appl', 'rt shaydiddi circustk up appl bs u tell go certain time muh fuh close', 'wit chu shaydiddi offici boycot up call appl curs next use wast time', 'ugh appl your reserv page iphon work', 'itun appl worst product wors newton hockey puck mous utterli pain use', 'der icloud hate u hope die worst fuck invent world fuck youuuuuuuuuuuu icloud appl stevejob', 'updat io lose everyth phone wont let sign itun account thank appl', 'suddenli lost address book gs iphon someon use appl id fuck', 'oh iphon overcapac huh appl let great', 'issu updat itun window pc realli compat sent time talk appl care use', 'appl u guy gay', 'restor iphon still text dear appl love restrict sm text io io atemydingo', 'none app work new io appl', 'seemingli endless loop call appl up verizonwireless investig miss iphon crankywithnophon', 'wisconsin mommi appl terribl hope get apolog', 'zombiebomb phone verizonwireless appl pretti much ever sinc realli annoy', 'chascouponmom appl get busi w new phone want buy stylu made wait forev outsid never', 'appl iphon pleas deliv daughter drive nut iphon', 'sprint bestbuy still word iphon preorder best buy blame sprint sprint blame appl want honest answer help', 'hey appl sm full messag complet shit ye annoy', 'never poor custom servic appl happen appl store w other http co gklxmui', 'appl servic experi realli fuck slip except cute eyelash bat girli appl store http co dohdenmg', 'ipa hour jailbrok shag itun letm restor appl sym', 'hailfir irvysan appl happen snatch siri could douchebag say', 'appl think make siri total depend network connect siri att utter frustrat', 'wow geniu bar reserv line appl ridic right amus ugh', 'iphon appl', 'appl batteri life suck io', 'appl updat seem render work machin incap open hdv video thank appl zero use product today', 'appl commit cloud storag idisk rain soon idisk plan new servic storag', 'hey appl share remind list iphon also login icloud webpag modifi share phone', 'appar fuzzbal crash io congratul appl anoth incompat upgrad', 'could appl lion pleas integr vertic space mission control horizont busi make nauseou', 'someon plz explain whhyy appl distribut phone per day sprint store realli http co uf tak f', 'gah appl io open text messag pain slow top restor attempt succeed earli adopt get better', 'dear appl pdf epub file disappear ibook iphon post io upgrad hurt gs needsomethingtoread', 'cbm lie appl batteri new iphon definit better lt lt check set time app usag io', 'huge podcast fan realli feel like appl drop ball one http co wvzprbci via carrypad', 'realli like siri voic perhap appl get star war voic like garmin http co psujg pn', 'carlton realli hate deal brain dead peopl appl store good product custom servic suck nz', 'realli hate deal brain dead peopl appl store good product custom servic suck', 'make photo album photo app io password protect um appl fix quickli', 'anyon els see miss signal bar iphon gs upgrad io cc applecanada appl forstal', 'rt cbm lie appl batteri new iphon definit better', 'appl want know custom think dont send updat norepli return address invent anyway useless', 'everi time tri voic control ipod touch send imessag start play knew pink still flawless appl', 'studi work hold appl hurri fuck nopati', 'ok hindi keyboard io someth cheer appl support miss indian languag fail', 'rt scottduga warn iphon app spontan loos data might app fault http co sesvwwm io downgrad', 'betweensunday ah yeah option hope appl figur thx', 'wait item copi itun everyth copi goe come appl hell', 'appl unhappi servic product qualiti buy appl', 'lie appl batteri new iphon definit better', 'philipgrey dear appl gotta go chang way lt input type number gt handl blue', 'hold appl custom servic minut wow lt like timewarnerc', 'anyon els stuck dupe calendar mail batteri suck appl hell icloud osx lion disappoint', 'inventor comput mous appl never made one complet piec fuck shit', 'appl kill excit io longer tragic batteri drain geniu bar want replac batteri realli', 'st impress io disappoint w upgrad restor lot app folder miss appl much time went org fail', 'prjusto question appl rememb dissent', 'appl multipl time siri troubl connect network siri need server exercis', 'imessag still work appl', 'rt jimmcniel appl resolv siri network issu need renam great product sorri els havin', 'dear appl gotta go chang way lt input type number gt handl blue', 'ugh wtf bottleneck paypal appl', 'rt doug newton appl pleas fix siri connect network', 'appl pleas fix siri connect network', 'appl resolv siri network issu need renam great product sorri els issu', 'chanc appl releas good headphon dont blast music outsid ear iphon ipod quit obnoxi', 'appl siri work due network problem serious fix iphon fail', 'trisha ps icloud cloudi appl tech techi', 'electricsoup connect appl process command fail right', 'see appl happen releas iphon crappi design old phone', 'rt bonkoif look like appl appropri project resourc need siri reliabl', 'look like appl appropri project resourc need siri reliabl', 'spoke appl rep phone could hear tv blare bg said actual help u direct u back web', 'wrong siri today appl', 'appl siri', 'suspect appl time health declin iphon perfectli iphon releas batteri serious ail', 'hold anoth half hour phone ring one pick appl stink', 'ok appl softwar updat iphon take waaaaay long annoy', 'appl would better inform custom properli migrat icloud mani complaint lead imag damag http co ql zmppo', 'appl io rape batteri life use phone lot sinc get', 'jane gazmaz hope small bug appl must fix right appl itjustwork', 'samsung appl realis realli piss custom base well look petti', 'appl app updat origin folder locat pain', 'appl domain fail open hr late walk ppl store empti need skin screen repres custom servic fail', 'brianmincey appl chipset tear batteri life cowork htc thunderbolt get hour life', 'wish appl updat would stop tri ram itun throat piss iphon appl', 'iphon run slower sinc io updat appl verizon', 'search voic year old nexu one appl', 'appl updat server time week forc restor w new io softwar lost stuff thank', 'appleupd success stori iphon ipad phone appl min ipad wast time appl replaceit', 'thank minut wait hold half hour actual talk someon appl tech decid send email fix phone', 'upset inconvenienc iphon updat fail backup iphon appl', 'serious appl financ damn phone greedi bastard santa get jolli ass gear get us white plz', 'schedul busi spend unqual time att appl recov iphon mo mobil get mo immobil sync', 'ponder io updat sound mikeferri difficulti may hold appl fix', 'twalv appl know issu dst alarm p', 'book appl geniu bar hour still serv disappoint appl store sydney thanksfornoth', 'appar appl geniu train extend clock servic half hour late appoint let know', 'screw appl io download crap tire tri get problem figur connect time', 'wow icloud mail st io upgrad issu realli hope appl without steve job', 'appl guy test upgrad put hr u guy wast time yesterday thank', 'go appl product first ipad freez still frozen iphon turn techietroubl', 'ipad perpetu restor loop tri upgrad io appl sux without steve', 'nd appl geniu apptment run late nd day row nd dodgi ipod make mega hire staff', 'took appl year figur properli syncron iphon wow io', 'appl went th ave store told could wait hour get needless say back hotel relax', 'overal fan iphon howev siri issu connect network appl', 'terribl custom servic lo gato appl pay bad home button iphon', 'appl thank suck much cannot believ would sell someth onlin made', 'major batteri drain issu sinc updat iphon io anyon els appstor iphon appl', 'dear appl pleas send mac book back sure repair done thank', 'appl thank io love music break like talk mobil cell phone bring back function iosdonwgrad', 'appl io iphon caus camera apperatur dilat problem freez', 'appl io geoloc suburb word drop map pin state pleas fix', 'sorri appl imessag never bbm disappoint', 'iphon siri work shit appl', 'clarenc thoma must design new osx lion toss decad workflow standard appl bring back save autosavesuck', 'offici hate appl fix damn itun', 'dear appl staff littl rock store answer first question know hard question', 'semilshah yeah except ask receipt take minut figur print fix appl', 'rt jdougyj hey appl wanna fix fuck playlist order piec shit', 'bummer yahoo ipad fantasi footbal app keep crash sure app new appl io two app run', 'appl suck dick gotta restor ipad annoy', 'line appl stupid', 'nansen man sux appl io upgrad total fail', 'dear appl contact terribl clean duplic hour magic reappear fix', 'much ask app incompat appl http co ykqip nk', 'piss whoever design keyboard appl home end key work cli use key often', 'novatyl appl mine gone recov save b upgrad iphon soooo piss', 'hey appl wanna fix fuck playlist order piec shit', 'siri hard time rememb sister contact card need space famili info iphon appl', 'io get sloppi appl u need check qa team mani issu app data sync', 'rt nansen sm full messag known appl issu new io updat tri restor els fail restor', 'glad paid appl care protect plan hold minut great custom servic', 'happi appl right upgrad itouch took itouch laptop help', 'say appl right goodridd see cancer bad', 'twitter look problem ipad open messag crash app appl mayb fault', 'appl point icloud wireless updat io forc use comput charg ipod touch worstupdateev', 'robert terpstra worri bud ps say lot network issu right appl mac problem', 'hate appl send toledooh bestbuy iphon verizon even pre order', 'pmphillip appl non appl equip broke often guess need asu geniu bar', 'new appl iphon os duplic ical event everyth fix tri turn icloud', 'dear appl conveni handi thought smart iphon io updat app work anymor none gr mbl', 'hey appl know steve job die twitter ipad app keep crash fix pleas lol f light', 'appl happi appl today suggest softwar updat noth work', 'smash yet anoth iphon screen appl gonna make phone durabl tire fix', 'io one problem save someon contact show nam becuz region appl appl', 'sure hell better abl restor calendar event terribl bug appl appl icloud anothericloudfail', 'realli hate appl let hide newsstand app move folder serv purpos', 'life much easier appl blackberri fruit', 'appl locat remind ipad point updat io', 'compar offic live googl app appl icloud see icloud lead crowd agre', 'rt mikeferri appl fix io week buy droid emptythreat', 'turn comput fix meant fuck appl go back geniu bar complain annoy', 'appl fix io week buy droid emptythreat', 'appl pl launch siri iphon disappoint spend hour upgrad io', 'appl suck fuck iphon better glad like caus servic fuck terribl', 'first time unhappi appl product disappoint internet seem confus right', 'week appl io consid go back jailbroken featur plu stabl though', 'issu siri reach network today mani use signal appl', 'new io complet fail upgrad phone stuck restor loop thank appl wast day undo', 'iphon run littl warm sometim appl', 'appl wtf add newsstand folder alreadi wall garden pleas remind us', 'appl see none microsoft offic program work anymor lion upgrad', 'dear appl want newsstand icon screen notcool', 'blackberri take better qualiti photo appl iphon though give photograhersey', 'ok itunesmus idk wth sync phone album art order wtf appl', 'wish siri could tweet appl fix', 'appl still wait deliv phone sprint', 'never purchas anoth appl product rest life glad steve job fuck dead may fuck rot hell', 'thank appl new imac brick cannot instal lion cannot purchas instal former owner', 'ask siri babi lisa told sorri troubl connect network right appl server fail io', 'thing io done delet tiger wood game made imposs retriev thank appl', 'damn appl break wififofum continu work io one use app damn appl overbear polici', 'yo appl updat disast', 'dear applecongratul su insur compani manag make top shit list ineedthosepictur', 'dear appl must let turn icloud save bandwidth delet everi document ipad bullshit', 'rt joelburn dear appl thank beauti new io featur miss old one lk make call text gt', 'far worst experi upgrad version io appl io', 'happen rt xcuntnuggetx never purchas anoth item appl', 'never purchas anoth item appl', 'rt leiboaz wow worst appl custom servic experi ever arrog inept bad combo biltmor appl store', 'wow worst appl custom servic experi ever arrog inept bad combo biltmor appl store', 'hey guy appl wtf happen iphon io suddenli fade black begin vibrat continu reboot', 'hbogo appl play nice let use hdmi ipad pretti lame', 'warn iphon app spontan loos data might app fault http co sesvwwm io downgrad appl marcoar', 'first imag photo roll made serious appl fuck much', 'appl iphon plu io equal half batteri life', 'appl itun updat wanna updat iphon io itun say need updat fail', 'appl let use credit itun unless credit card told redeem card sound fair', 'amandbrar appl siri work less time servic improv monday return iphon', 'azrael rt davidegori mobilem issu sync access mail good premis icloud appl', 'need appl help instal new io iphon stuck find iphon screen keep click next work', 'bummer appl icloud sync window w outlook thunderbird ie firefox chrome sadmac', 'disappoint visual merchandis appl simpl lack eleg sequenc even tell us siri http co xv q gfi', 'termin hold appl support must person troubl new iphon synch', 'appl thank appl io lose contact', 'appl give app back', 'appl io nonstop drop call mute button randomli activ person cant hear pull phone ear mobil screen', 'rt tomcolontonio occur appl appl ppl share itun account amongst famili wtf', 'tomcolontonio appl epicfail', 'minut iphon post io upgrad lost charg appl store folk idea', 'cut cord make podcast even harder manag subscript wth appl http co ld x io via carrypad', 'less hour post io iphon gone batteri charg appl store folk solut', 'well appl seem b screw iphon resellar still dont yet promis similar bell monopolist prctice', 'also ericgreenspan forget appl stop close app store bloodi purchas', 'appl cu', 'sigh appl store seem stump catastroph bad batteri life upgrad io', 'hmmmm lot siri featur work canada locat direct serious appl come', 'appl siri connect network less use voicecontrol', 'appl took siri made exclus iphon sorud', 'total time phone appl hour minut let see goe', 'wait line noth fuck geniu appl call app john jean stop fuck name im french boy pcam', 'dear appl one day go releas version itun freez often work one day', 'hr sinc report up theft iphon appl done noth return call promis noth', 'bode well charg night appl iphon batteri hr charger call light use', 'houston problem ipad restor hour instal appl io right', 'siri went littl last night come appl get shit togeth launch', 'ford team appl instead microsoft make sync system new focu car sweet sync epicfail', 'rt gdcurri realli appl done itun click music movi tv show playlist get l', 'damn appl']\n"
          ]
        }
      ],
      "source": [
        "print(corpus)"
      ]
    },
    {
      "cell_type": "code",
      "execution_count": null,
      "metadata": {
        "id": "RpoPQjBHkxWj"
      },
      "outputs": [],
      "source": [
        "#    Adding corpus to csv\n",
        "corpus_dataset = pd.DataFrame(corpus)\n",
        "corpus_dataset['corpus'] = corpus_dataset\n",
        "corpus_dataset = corpus_dataset.drop([0], axis = 1)\n",
        "corpus_dataset.to_csv('/content/drive/My Drive/Colab Notebooks/corpus_dataset-project-5.csv')"
      ]
    },
    {
      "cell_type": "code",
      "execution_count": null,
      "metadata": {
        "colab": {
          "base_uri": "https://localhost:8080/"
        },
        "id": "y1HTcC0ak7UT",
        "outputId": "cdb9dcd3-91ab-42c5-f424-f1b702d8065b"
      },
      "outputs": [
        {
          "output_type": "stream",
          "name": "stdout",
          "text": [
            "CountVectorizer(max_features=1500)\n"
          ]
        }
      ],
      "source": [
        "# Creating the Bag of Words model\n",
        "from sklearn.feature_extraction.text import CountVectorizer\n",
        "cv = CountVectorizer(max_features = 1500)\n",
        "print(cv)\n",
        "X = cv.fit_transform(corpus).toarray()\n",
        "y = dataset.iloc[:, 1].values"
      ]
    },
    {
      "cell_type": "code",
      "execution_count": null,
      "metadata": {
        "colab": {
          "base_uri": "https://localhost:8080/"
        },
        "id": "-t9pcRG7lAAm",
        "outputId": "d1924955-dbe6-4a1b-f3cd-c457061725d5"
      },
      "outputs": [
        {
          "output_type": "stream",
          "name": "stdout",
          "text": [
            "[[0 0 0 ... 0 0 0]\n",
            " [0 0 0 ... 0 0 0]\n",
            " [0 0 0 ... 0 0 0]\n",
            " ...\n",
            " [0 0 0 ... 0 0 0]\n",
            " [0 0 0 ... 0 0 0]\n",
            " [0 0 0 ... 0 0 0]]\n"
          ]
        }
      ],
      "source": [
        "print(X)\n"
      ]
    },
    {
      "cell_type": "code",
      "execution_count": null,
      "metadata": {
        "colab": {
          "base_uri": "https://localhost:8080/"
        },
        "id": "KTs1fQlC7_o0",
        "outputId": "a083def1-632d-43b8-d831-decd3de47590"
      },
      "outputs": [
        {
          "output_type": "stream",
          "name": "stdout",
          "text": [
            "(479, 1500)\n"
          ]
        }
      ],
      "source": [
        "print(X.shape)"
      ]
    },
    {
      "cell_type": "code",
      "execution_count": null,
      "metadata": {
        "colab": {
          "base_uri": "https://localhost:8080/"
        },
        "id": "TKjJScfWmUpT",
        "outputId": "192a48b2-58c4-4151-ecbb-1f4166c79564"
      },
      "outputs": [
        {
          "output_type": "stream",
          "name": "stdout",
          "text": [
            "[1 1 1 1 1 1 1 1 1 1 1 1 1 1 1 1 1 1 1 1 1 1 1 1 1 1 1 1 1 1 1 1 1 1 1 1 1\n",
            " 1 1 1 1 1 1 1 1 1 1 1 1 1 1 1 1 1 1 1 1 1 1 1 1 1 1 1 1 1 1 1 1 1 1 1 1 1\n",
            " 1 1 1 1 1 1 1 1 1 1 1 1 1 1 1 1 1 1 1 1 1 1 1 1 1 1 1 1 1 1 1 1 1 1 1 1 1\n",
            " 1 1 1 1 1 1 1 1 1 1 1 1 1 1 1 1 1 1 1 1 1 1 1 1 1 1 1 1 1 1 1 1 1 1 1 1 1\n",
            " 1 1 1 1 1 1 1 1 1 1 1 1 1 1 1 0 0 0 0 0 0 0 0 0 0 0 0 0 0 0 0 0 0 0 0 0 0\n",
            " 0 0 0 0 0 0 0 0 0 0 0 0 0 0 0 0 0 0 0 0 0 0 0 0 0 0 0 0 0 0 0 0 0 0 0 0 0\n",
            " 0 0 0 0 0 0 0 0 0 0 0 0 0 0 0 0 0 0 0 0 0 0 0 0 0 0 0 0 0 0 0 0 0 0 0 0 0\n",
            " 0 0 0 0 0 0 0 0 0 0 0 0 0 0 0 0 0 0 0 0 0 0 0 0 0 0 0 0 0 0 0 0 0 0 0 0 0\n",
            " 0 0 0 0 0 0 0 0 0 0 0 0 0 0 0 0 0 0 0 0 0 0 0 0 0 0 0 0 0 0 0 0 0 0 0 0 0\n",
            " 0 0 0 0 0 0 0 0 0 0 0 0 0 0 0 0 0 0 0 0 0 0 0 0 0 0 0 0 0 0 0 0 0 0 0 0 0\n",
            " 0 0 0 0 0 0 0 0 0 0 0 0 0 0 0 0 0 0 0 0 0 0 0 0 0 0 0 0 0 0 0 0 0 0 0 0 0\n",
            " 0 0 0 0 0 0 0 0 0 0 0 0 0 0 0 0 0 0 0 0 0 0 0 0 0 0 0 0 0 0 0 0 0 0 0 0 0\n",
            " 0 0 0 0 0 0 0 0 0 0 0 0 0 0 0 0 0 0 0 0 0 0 0 0 0 0 0 0 0 0 0 0 0 0 0]\n"
          ]
        }
      ],
      "source": [
        "print(y)"
      ]
    },
    {
      "cell_type": "code",
      "execution_count": null,
      "metadata": {
        "colab": {
          "base_uri": "https://localhost:8080/"
        },
        "id": "njJoQXJ88FyC",
        "outputId": "6f0a8916-86df-4306-b66b-6432933e6bcc"
      },
      "outputs": [
        {
          "output_type": "stream",
          "name": "stdout",
          "text": [
            "(479,)\n"
          ]
        }
      ],
      "source": [
        "print(y.shape)"
      ]
    },
    {
      "cell_type": "code",
      "execution_count": null,
      "metadata": {
        "id": "l6psMlQomZC3"
      },
      "outputs": [],
      "source": [
        "# Splitting the dataset into the Training set and Test set\n",
        "from sklearn.model_selection import train_test_split\n",
        "X_train, X_test, y_train, y_test = train_test_split(X, y, test_size = 0.5, random_state = 0)\n"
      ]
    },
    {
      "cell_type": "code",
      "execution_count": null,
      "metadata": {
        "colab": {
          "base_uri": "https://localhost:8080/"
        },
        "id": "7U3ymwGB-OT4",
        "outputId": "466b9fc1-6704-4a06-9174-f8622b5628a7"
      },
      "outputs": [
        {
          "output_type": "execute_result",
          "data": {
            "text/plain": [
              "GaussianNB()"
            ]
          },
          "metadata": {},
          "execution_count": 33
        }
      ],
      "source": [
        "# Fitting Naive Bayes to the Training set\n",
        "from sklearn.naive_bayes import GaussianNB\n",
        "classifier = GaussianNB()\n",
        "classifier.fit(X_train, y_train)"
      ]
    },
    {
      "cell_type": "code",
      "execution_count": null,
      "metadata": {
        "id": "zPFlI1yaAD9K"
      },
      "outputs": [],
      "source": [
        "# Predicting the Test set results\n",
        "y_pred = classifier.predict(X_test)"
      ]
    },
    {
      "cell_type": "code",
      "execution_count": null,
      "metadata": {
        "colab": {
          "base_uri": "https://localhost:8080/"
        },
        "id": "k6kJKxkVAH3e",
        "outputId": "b3e00aa3-0b85-4a77-ba1d-291cf613f4f9"
      },
      "outputs": [
        {
          "output_type": "stream",
          "name": "stdout",
          "text": [
            "Confusion matrix: \n",
            "[[139  16]\n",
            " [ 35  50]]\n"
          ]
        }
      ],
      "source": [
        "# Making the Confusion Matrix\n",
        "from sklearn.metrics import confusion_matrix\n",
        "cm = confusion_matrix(y_test, y_pred)\n",
        "print('Confusion matrix: ')\n",
        "print(cm)"
      ]
    },
    {
      "cell_type": "code",
      "execution_count": null,
      "metadata": {
        "colab": {
          "base_uri": "https://localhost:8080/"
        },
        "id": "bhTC1RY9AMwh",
        "outputId": "bca5db33-4889-44d2-b4f0-2e936b588769"
      },
      "outputs": [
        {
          "output_type": "stream",
          "name": "stdout",
          "text": [
            "Accuracy: 78.75\n"
          ]
        }
      ],
      "source": [
        "# calculate Accuracy\n",
        "from sklearn.metrics import accuracy_score\n",
        "print('Accuracy: %.2f' % (accuracy_score(y_test, y_pred)*100))\n"
      ]
    },
    {
      "cell_type": "code",
      "execution_count": null,
      "metadata": {
        "colab": {
          "base_uri": "https://localhost:8080/"
        },
        "id": "Z4dEiUFAATDl",
        "outputId": "4baeef72-1ca0-42d8-f9fb-feee72909dfa"
      },
      "outputs": [
        {
          "output_type": "stream",
          "name": "stdout",
          "text": [
            "Precision: 75.758\n"
          ]
        }
      ],
      "source": [
        "from sklearn.metrics import precision_score\n",
        "from sklearn.metrics import recall_score\n",
        "from sklearn.metrics import f1_score\n",
        "# calculate precision\n",
        "# Precision = TruePositives / (TruePositives + FalsePositives)\n",
        "precision = precision_score(y_test, y_pred, average='binary')\n",
        "print('Precision: %.3f' % (precision*100))"
      ]
    },
    {
      "cell_type": "code",
      "execution_count": null,
      "metadata": {
        "colab": {
          "base_uri": "https://localhost:8080/"
        },
        "id": "OPIU-4HFJb4l",
        "outputId": "92ff44f4-f8f5-4b7a-cb5a-2ab42c4b9256"
      },
      "outputs": [
        {
          "output_type": "stream",
          "name": "stdout",
          "text": [
            "F-Measure: 66.225\n"
          ]
        }
      ],
      "source": [
        "from sklearn.metrics import f1_score\n",
        "# F-Measure = (2 * Precision * Recall) / (Precision + Recall)\n",
        "# calculate score\n",
        "score = f1_score(y_test, y_pred, average='binary')\n",
        "print('F-Measure: %.3f' % (score*100))"
      ]
    },
    {
      "cell_type": "code",
      "execution_count": null,
      "metadata": {
        "colab": {
          "base_uri": "https://localhost:8080/"
        },
        "id": "gEKH1WUyJjCF",
        "outputId": "b32fd314-bda6-4172-ff26-d61b45c6539d"
      },
      "outputs": [
        {
          "output_type": "stream",
          "name": "stdout",
          "text": [
            "Recall: 58.824\n"
          ]
        }
      ],
      "source": [
        "# calculate recall\n",
        "# Recall = TruePositives / (TruePositives + FalseNegatives)\n",
        "recall = recall_score(y_test, y_pred, average='binary')\n",
        "print('Recall: %.3f' % (recall*100))"
      ]
    },
    {
      "cell_type": "code",
      "execution_count": null,
      "metadata": {
        "colab": {
          "base_uri": "https://localhost:8080/"
        },
        "id": "1547kVhgJoQg",
        "outputId": "9e6f2577-798c-4b0f-ff35-569f892103c6"
      },
      "outputs": [
        {
          "output_type": "stream",
          "name": "stdout",
          "text": [
            "0.7875\n"
          ]
        }
      ],
      "source": [
        "# save the model to disk\n",
        "import joblib\n",
        "filename = '/content/drive/My Drive/Colab Notebooks/project_NLP-5.sav'\n",
        "joblib.dump(classifier, filename)\n",
        "\n",
        "# some time later...\n",
        "\n",
        "# load the model from disk\n",
        "naive_bayes_model = joblib.load(filename)\n",
        "result = naive_bayes_model.score(X_test, y_test)\n",
        "print(result)"
      ]
    },
    {
      "cell_type": "code",
      "execution_count": null,
      "metadata": {
        "colab": {
          "base_uri": "https://localhost:8080/"
        },
        "id": "02MfTZSSLwzG",
        "outputId": "314a3b77-3d30-4f7f-a962-7e110c72b098"
      },
      "outputs": [
        {
          "output_type": "stream",
          "name": "stdout",
          "text": [
            "[[0 0 0 ... 0 0 0]]\n",
            "Review is Negative\n"
          ]
        }
      ],
      "source": [
        "Review = \"shit\" #@param {type:\"string\"}\n",
        "input_data = [Review]\n",
        "\n",
        "input_data = cv.transform(input_data).toarray()\n",
        "print(input_data)\n",
        "\n",
        "input_pred = classifier.predict(input_data)\n",
        "\n",
        "input_pred = input_pred.astype(int)\n",
        "\n",
        "\n",
        "if input_pred[0]==1:\n",
        "    print(\"Review is Positive\")\n",
        "else:\n",
        "    print(\"Review is Negative\")"
      ]
    },
    {
      "cell_type": "code",
      "execution_count": null,
      "metadata": {
        "colab": {
          "base_uri": "https://localhost:8080/"
        },
        "id": "fZ7n6z5mL2tt",
        "outputId": "4cede295-69d0-4c38-b577-8c15e6538c76"
      },
      "outputs": [
        {
          "output_type": "stream",
          "name": "stdout",
          "text": [
            "[INFO] Saving model...\n"
          ]
        }
      ],
      "source": [
        "import pickle\n",
        "print(\"[INFO] Saving model...\")\n",
        "# Save the trained model as a pickle string.\n",
        "saved_model=pickle.dump(classifier,open('/content/drive/My Drive/Colab Notebooks/project_nlp-5.pkl', 'wb'))\n",
        "# Saving model to disk"
      ]
    },
    {
      "cell_type": "code",
      "execution_count": null,
      "metadata": {
        "colab": {
          "base_uri": "https://localhost:8080/"
        },
        "id": "RH6JeBzPMBTC",
        "outputId": "1ef99370-49b8-45f1-b49f-9e1c83f099d9"
      },
      "outputs": [
        {
          "output_type": "execute_result",
          "data": {
            "text/plain": [
              "array([1, 0, 0, 0, 0, 1, 1, 0, 1, 1, 0, 0, 1, 0, 0, 0, 1, 1, 0, 0, 0, 0,\n",
              "       0, 1, 0, 0, 0, 0, 0, 0, 1, 0, 0, 0, 0, 0, 0, 0, 0, 1, 1, 1, 1, 0,\n",
              "       0, 0, 0, 0, 0, 0, 0, 0, 0, 0, 0, 1, 0, 0, 0, 0, 0, 0, 0, 1, 0, 0,\n",
              "       0, 0, 0, 1, 0, 0, 0, 0, 0, 0, 0, 1, 0, 1, 0, 1, 1, 1, 1, 0, 0, 1,\n",
              "       0, 0, 1, 0, 0, 1, 0, 0, 0, 1, 0, 0, 0, 0, 0, 0, 0, 1, 0, 1, 0, 0,\n",
              "       1, 0, 0, 0, 0, 0, 0, 0, 0, 0, 0, 0, 0, 1, 1, 1, 0, 1, 1, 1, 0, 1,\n",
              "       0, 0, 1, 1, 0, 1, 1, 1, 1, 0, 0, 0, 0, 1, 0, 0, 1, 0, 1, 0, 0, 0,\n",
              "       0, 0, 0, 0, 0, 1, 0, 0, 0, 1, 0, 0, 0, 0, 0, 0, 1, 0, 1, 0, 0, 0,\n",
              "       0, 1, 0, 0, 0, 0, 0, 0, 0, 0, 1, 0, 0, 0, 1, 0, 1, 0, 1, 1, 0, 0,\n",
              "       0, 1, 0, 0, 0, 0, 0, 0, 1, 0, 0, 0, 0, 0, 0, 0, 0, 0, 0, 0, 0, 1,\n",
              "       0, 1, 0, 0, 0, 0, 0, 0, 1, 1, 0, 1, 1, 1, 0, 0, 0, 1, 0, 0])"
            ]
          },
          "metadata": {},
          "execution_count": 43
        }
      ],
      "source": [
        "# Load the pickled model\n",
        "model = pickle.load(open('/content/drive/My Drive/Colab Notebooks/project_nlp-5.pkl','rb'))\n",
        "# Use the loaded pickled model to make predictions\n",
        "model.predict(X_test)"
      ]
    },
    {
      "cell_type": "code",
      "execution_count": null,
      "metadata": {
        "id": "IZHfd108MRSo"
      },
      "outputs": [],
      "source": [
        "%mkdir templates -p"
      ]
    },
    {
      "cell_type": "code",
      "execution_count": null,
      "metadata": {
        "colab": {
          "base_uri": "https://localhost:8080/"
        },
        "id": "HV6NYZR1X0wZ",
        "outputId": "f413b3be-a476-48d4-ea4b-826c8a99a77a"
      },
      "outputs": [
        {
          "output_type": "stream",
          "name": "stdout",
          "text": [
            "Writing templates/index.html\n"
          ]
        }
      ],
      "source": [
        "%%writefile templates/index.html\n",
        "<!DOCTYPE html>\n",
        "<html >\n",
        "<!--From https://codepen.io/frytyler/pen/EGdtg-->\n",
        "<head>\n",
        "<title>Machine Learning  Linear Regression Deployment</title>\n",
        "<meta charset=\"UTF-8\">\n",
        "<link href='https://fonts.googleapis.com/css?family=Open+Sans+Condensed:300' rel='stylesheet' type='text/css'>\n",
        "<!-- JavaScript Bundle with Popper -->\n",
        "<script src=\"https://cdn.jsdelivr.net/npm/bootstrap@5.2.0/dist/js/bootstrap.bundle.min.js\" integrity=\"sha384-A3rJD856KowSb7dwlZdYEkO39Gagi7vIsF0jrRAoQmDKKtQBHUuLZ9AsSv4jD4Xa\" crossorigin=\"anonymous\"></script>\n",
        "<link href=\"https://cdn.jsdelivr.net/npm/bootstrap@5.0.0-beta1/dist/css/bootstrap.min.css\" rel=\"stylesheet\" integrity=\"sha384-giJF6kkoqNQ00vy+HMDP7azOuL0xtbfIcaT9wjKHr8RbDVddVHyTfAAsrekwKmP1\" crossorigin=\"anonymous\">\n",
        "<style><!DOCTYPE html>\n",
        "\n",
        "h1 {text-align: center;}\n",
        "h2 {text-align: center;}\n",
        "h3 {text-align: center;}\n",
        "p {text-align: center;}\n",
        "div {text-align: center;}\n",
        "</style>\n",
        "</head>\n",
        "\n",
        "<body>\n",
        "\n",
        "<div class=\"\" style=\"background-color:red;\" >\n",
        "<div class=\"clearfix\">\n",
        "\n",
        "<div class=\"col-md-12\">\n",
        "<center><p style=\"font-size:40px;color:white;margin-top:10px;\">Poornima Institute of Engineering & Technology</p></center>\n",
        "<center><p style=\"font-size:30px;color:white;margin-top:10px;\">Department of Computer Engineering</p></center>\n",
        "<center><p style=\"font-size:25px;color:white;margin-top:10px;\">Summer Internship 2022 on Machine learning and Data Science</p></center>\n",
        "</div>\n",
        "\n",
        "<div class=\"login\">\n",
        "<h2 >NLP Analysis to predict the text is Positive or Negative</h2>\n",
        "<h4>Developed by Alok Raj </h4>\n",
        "<!-- Main Input For Receiving Query to our ML -->\n",
        "<form action=\"{{ url_for('predict')}}\"method=\"get\">\n",
        "<div class=\"form-floating mb-3\">\n",
        "\n",
        "<input type=\"text\" class=\"form-control\" id=\"text\" name=\"text\" step=\"any\" min=\"0\" max=\"1000\" placeholder=\"0\" required=\"required\">\n",
        "<label for=\"textInput\">Enter the text</label>\n",
        "</div>\n",
        "<br>\n",
        "\n",
        "<br>\n",
        "<button type=\"submit\" class=\"btn btn-primary btn-block btn-large\">Predict the text</button>\n",
        "</form>\n",
        "<br>\n",
        "<br>\n",
        "{{ prediction_text }}\n",
        "\n",
        "</div>\n",
        "\n",
        "<div class=\"\" style=\"background-color:blue;\" >\n",
        "<div class=\"clearfix\">\n",
        "\n",
        "<div class=\"col-md-12\">\n",
        " <center><p style=\"font-size:25px;color:white;margin-top:20px;\">Experiment Performed in Summer internship 2022 from 27 June to 8 August </p></center>\n",
        "</div>\n",
        "</div>\n",
        "</div>\n",
        "</body>\n",
        "</html>"
      ]
    },
    {
      "cell_type": "code",
      "execution_count": null,
      "metadata": {
        "colab": {
          "base_uri": "https://localhost:8080/"
        },
        "id": "Nhin9OeFaKat",
        "outputId": "893d6c0a-30db-4ac9-e5f5-3fd8014f5092"
      },
      "outputs": [
        {
          "output_type": "stream",
          "name": "stdout",
          "text": [
            "Looking in indexes: https://pypi.org/simple, https://us-python.pkg.dev/colab-wheels/public/simple/\n",
            "Collecting pyngrok\n",
            "  Downloading pyngrok-5.1.0.tar.gz (745 kB)\n",
            "\u001b[K     |████████████████████████████████| 745 kB 4.4 MB/s \n",
            "\u001b[?25hRequirement already satisfied: PyYAML in /usr/local/lib/python3.7/dist-packages (from pyngrok) (3.13)\n",
            "Building wheels for collected packages: pyngrok\n",
            "  Building wheel for pyngrok (setup.py) ... \u001b[?25l\u001b[?25hdone\n",
            "  Created wheel for pyngrok: filename=pyngrok-5.1.0-py3-none-any.whl size=19007 sha256=ad80b3d6ae5a3d1c25b9a6a4987425f81cc0c9e220485d61614e070197885ec1\n",
            "  Stored in directory: /root/.cache/pip/wheels/bf/e6/af/ccf6598ecefecd44104069371795cb9b3afbcd16987f6ccfb3\n",
            "Successfully built pyngrok\n",
            "Installing collected packages: pyngrok\n",
            "Successfully installed pyngrok-5.1.0\n"
          ]
        }
      ],
      "source": [
        "!pip install pyngrok"
      ]
    },
    {
      "cell_type": "code",
      "execution_count": null,
      "metadata": {
        "colab": {
          "base_uri": "https://localhost:8080/"
        },
        "id": "cirwiVqFac37",
        "outputId": "8ab66099-2a6f-4595-f26c-14da3dc02e3b"
      },
      "outputs": [
        {
          "output_type": "stream",
          "name": "stdout",
          "text": [
            "Authtoken saved to configuration file: /root/.ngrok2/ngrok.yml\n"
          ]
        }
      ],
      "source": [
        "!ngrok authtoken 2CT4MHWPe5W1c3i8WbPIkMfV3YB_7M1jKwhLC4HVFvS11Rbf"
      ]
    },
    {
      "cell_type": "code",
      "execution_count": null,
      "metadata": {
        "colab": {
          "base_uri": "https://localhost:8080/"
        },
        "id": "Rwsv8Y2Tauie",
        "outputId": "c13250f3-880f-4d0c-ab59-776e4c34051d"
      },
      "outputs": [
        {
          "output_type": "stream",
          "name": "stdout",
          "text": [
            "Looking in indexes: https://pypi.org/simple, https://us-python.pkg.dev/colab-wheels/public/simple/\n",
            "Collecting flask-ngrok\n",
            "  Downloading flask_ngrok-0.0.25-py3-none-any.whl (3.1 kB)\n",
            "Requirement already satisfied: requests in /usr/local/lib/python3.7/dist-packages (from flask-ngrok) (2.23.0)\n",
            "Requirement already satisfied: Flask>=0.8 in /usr/local/lib/python3.7/dist-packages (from flask-ngrok) (1.1.4)\n",
            "Requirement already satisfied: Jinja2<3.0,>=2.10.1 in /usr/local/lib/python3.7/dist-packages (from Flask>=0.8->flask-ngrok) (2.11.3)\n",
            "Requirement already satisfied: Werkzeug<2.0,>=0.15 in /usr/local/lib/python3.7/dist-packages (from Flask>=0.8->flask-ngrok) (1.0.1)\n",
            "Requirement already satisfied: itsdangerous<2.0,>=0.24 in /usr/local/lib/python3.7/dist-packages (from Flask>=0.8->flask-ngrok) (1.1.0)\n",
            "Requirement already satisfied: click<8.0,>=5.1 in /usr/local/lib/python3.7/dist-packages (from Flask>=0.8->flask-ngrok) (7.1.2)\n",
            "Requirement already satisfied: MarkupSafe>=0.23 in /usr/local/lib/python3.7/dist-packages (from Jinja2<3.0,>=2.10.1->Flask>=0.8->flask-ngrok) (2.0.1)\n",
            "Requirement already satisfied: urllib3!=1.25.0,!=1.25.1,<1.26,>=1.21.1 in /usr/local/lib/python3.7/dist-packages (from requests->flask-ngrok) (1.24.3)\n",
            "Requirement already satisfied: certifi>=2017.4.17 in /usr/local/lib/python3.7/dist-packages (from requests->flask-ngrok) (2022.6.15)\n",
            "Requirement already satisfied: chardet<4,>=3.0.2 in /usr/local/lib/python3.7/dist-packages (from requests->flask-ngrok) (3.0.4)\n",
            "Requirement already satisfied: idna<3,>=2.5 in /usr/local/lib/python3.7/dist-packages (from requests->flask-ngrok) (2.10)\n",
            "Installing collected packages: flask-ngrok\n",
            "Successfully installed flask-ngrok-0.0.25\n"
          ]
        }
      ],
      "source": [
        "!pip install flask-ngrok"
      ]
    },
    {
      "cell_type": "code",
      "execution_count": null,
      "metadata": {
        "colab": {
          "base_uri": "https://localhost:8080/"
        },
        "id": "VO44GAm7bTBS",
        "outputId": "e099b7ec-0270-4480-ef05-b857eec703f1"
      },
      "outputs": [
        {
          "output_type": "stream",
          "name": "stdout",
          "text": [
            " * Serving Flask app \"__main__\" (lazy loading)\n",
            " * Environment: production\n",
            "\u001b[31m   WARNING: This is a development server. Do not use it in a production deployment.\u001b[0m\n",
            "\u001b[2m   Use a production WSGI server instead.\u001b[0m\n",
            " * Debug mode: off\n"
          ]
        },
        {
          "output_type": "stream",
          "name": "stderr",
          "text": [
            " * Running on http://127.0.0.1:5000/ (Press CTRL+C to quit)\n",
            "INFO:werkzeug: * Running on http://127.0.0.1:5000/ (Press CTRL+C to quit)\n"
          ]
        },
        {
          "output_type": "stream",
          "name": "stdout",
          "text": [
            " * Running on http://319c-35-229-207-29.ngrok.io\n",
            " * Traffic stats available on http://127.0.0.1:4040\n"
          ]
        },
        {
          "output_type": "stream",
          "name": "stderr",
          "text": [
            "127.0.0.1 - - [07/Aug/2022 13:51:38] \"\u001b[37mGET / HTTP/1.1\u001b[0m\" 200 -\n",
            "INFO:werkzeug:127.0.0.1 - - [07/Aug/2022 13:51:38] \"\u001b[37mGET / HTTP/1.1\u001b[0m\" 200 -\n",
            "127.0.0.1 - - [07/Aug/2022 13:51:39] \"\u001b[33mGET /favicon.ico HTTP/1.1\u001b[0m\" 404 -\n",
            "INFO:werkzeug:127.0.0.1 - - [07/Aug/2022 13:51:39] \"\u001b[33mGET /favicon.ico HTTP/1.1\u001b[0m\" 404 -\n",
            "[nltk_data] Downloading package stopwords to /root/nltk_data...\n",
            "[nltk_data]   Package stopwords is already up-to-date!\n",
            "[nltk_data] Downloading package stopwords to /root/nltk_data...\n",
            "[nltk_data]   Package stopwords is already up-to-date!\n",
            "[2022-08-07 13:51:47,361] ERROR in app: Exception on /predict [GET]\n",
            "Traceback (most recent call last):\n",
            "  File \"/usr/local/lib/python3.7/dist-packages/flask/app.py\", line 2447, in wsgi_app\n",
            "    response = self.full_dispatch_request()\n",
            "  File \"/usr/local/lib/python3.7/dist-packages/flask/app.py\", line 1952, in full_dispatch_request\n",
            "    rv = self.handle_user_exception(e)\n",
            "  File \"/usr/local/lib/python3.7/dist-packages/flask/app.py\", line 1821, in handle_user_exception\n",
            "    reraise(exc_type, exc_value, tb)\n",
            "  File \"/usr/local/lib/python3.7/dist-packages/flask/_compat.py\", line 39, in reraise\n",
            "    raise value\n",
            "  File \"/usr/local/lib/python3.7/dist-packages/flask/app.py\", line 1950, in full_dispatch_request\n",
            "    rv = self.dispatch_request()\n",
            "  File \"/usr/local/lib/python3.7/dist-packages/flask/app.py\", line 1936, in dispatch_request\n",
            "    return self.view_functions[rule.endpoint](**req.view_args)\n",
            "  File \"<ipython-input-56-2180d9b16062>\", line 83, in predict\n",
            "    return render_template('index.html', prediction_text='NLP Model  has predicted about the text : {}'.format(prediction))\n",
            "UnboundLocalError: local variable 'prediction' referenced before assignment\n",
            "ERROR:__main__:Exception on /predict [GET]\n",
            "Traceback (most recent call last):\n",
            "  File \"/usr/local/lib/python3.7/dist-packages/flask/app.py\", line 2447, in wsgi_app\n",
            "    response = self.full_dispatch_request()\n",
            "  File \"/usr/local/lib/python3.7/dist-packages/flask/app.py\", line 1952, in full_dispatch_request\n",
            "    rv = self.handle_user_exception(e)\n",
            "  File \"/usr/local/lib/python3.7/dist-packages/flask/app.py\", line 1821, in handle_user_exception\n",
            "    reraise(exc_type, exc_value, tb)\n",
            "  File \"/usr/local/lib/python3.7/dist-packages/flask/_compat.py\", line 39, in reraise\n",
            "    raise value\n",
            "  File \"/usr/local/lib/python3.7/dist-packages/flask/app.py\", line 1950, in full_dispatch_request\n",
            "    rv = self.dispatch_request()\n",
            "  File \"/usr/local/lib/python3.7/dist-packages/flask/app.py\", line 1936, in dispatch_request\n",
            "    return self.view_functions[rule.endpoint](**req.view_args)\n",
            "  File \"<ipython-input-56-2180d9b16062>\", line 83, in predict\n",
            "    return render_template('index.html', prediction_text='NLP Model  has predicted about the text : {}'.format(prediction))\n",
            "UnboundLocalError: local variable 'prediction' referenced before assignment\n",
            "127.0.0.1 - - [07/Aug/2022 13:51:47] \"\u001b[35m\u001b[1mGET /predict?text=fuck HTTP/1.1\u001b[0m\" 500 -\n",
            "INFO:werkzeug:127.0.0.1 - - [07/Aug/2022 13:51:47] \"\u001b[35m\u001b[1mGET /predict?text=fuck HTTP/1.1\u001b[0m\" 500 -\n"
          ]
        },
        {
          "output_type": "stream",
          "name": "stdout",
          "text": [
            "text\n",
            "['text']\n",
            "['text']\n",
            "['text']\n",
            "text\n",
            "[1.]\n"
          ]
        }
      ],
      "source": [
        "import numpy as np\n",
        "from flask import Flask, request, jsonify, render_template\n",
        "from flask_ngrok import run_with_ngrok\n",
        "import pickle\n",
        "import pandas as pd\n",
        "import matplotlib.pyplot as plt\n",
        "\n",
        "app = Flask(__name__)\n",
        "model = pickle.load(open('/content/drive/My Drive/Colab Notebooks/project_nlp-5.pkl','rb'))\n",
        "run_with_ngrok(app)\n",
        "@app.route('/')\n",
        "def home():\n",
        "\n",
        "    return render_template(\"index.html\")\n",
        "\n",
        "@app.route('/predict',methods=['GET'])\n",
        "\n",
        "\n",
        "def predict():\n",
        "  dataset = pd.read_csv('/content/drive/My Drive/Colab Notebooks/Dataset/NLP dataset 1.csv')\n",
        "  # First step: cleaning Text and removing number and punctuation marks.\n",
        "  # Cleaning the texts for all review using for loop\n",
        "  import re\n",
        "  import nltk\n",
        "  nltk.download('stopwords')\n",
        "  from nltk.corpus import stopwords\n",
        "  from nltk.stem.porter import PorterStemmer\n",
        "  corpus = []\n",
        "  for i in range(0, 479):\n",
        "    review = re.sub('[^a-zA-Z]', ' ', dataset['text'][i])\n",
        "    review = review.lower()\n",
        "    review = review.split()\n",
        "    ps = PorterStemmer()\n",
        "    review = [ps.stem(word) for word in review if not word in set(stopwords.words('english'))]\n",
        "    review = ' '.join(review)\n",
        "    #print(review)\n",
        "    corpus.append(review)\n",
        "  # Creating the Bag of Words model\n",
        "  from sklearn.feature_extraction.text import CountVectorizer\n",
        "  cv = CountVectorizer(max_features = 1500)\n",
        "  #print(cv)\n",
        "  X = cv.fit_transform(corpus).toarray()\n",
        "  import re\n",
        "  review = re.sub('[^a-zA-Z]', ' ', str('text'))\n",
        "  review=review.lower()\n",
        "  print(review)\n",
        "  # Third step: Removing stop words like 'this, the'\n",
        "  import nltk\n",
        "  nltk.download('stopwords')\n",
        "  from nltk.corpus import stopwords\n",
        "  review = review.split()\n",
        "  print(review)\n",
        "  # Third step: Removing stop words like 'this, the'\n",
        "   # set function is generally used for long article to fastem process\n",
        "  review1 = [word for word in review if not word in set(stopwords.words('english'))]\n",
        "  print(review1)\n",
        "  # Fourth step: converting stemming words\n",
        "  from nltk.stem.porter import PorterStemmer\n",
        "  ps = PorterStemmer()\n",
        "  review = [ps.stem(word) for word in review1 if not word in set(stopwords.words('english'))]\n",
        "  print(review)\n",
        "  # joining these words of list\n",
        "  review2 = ' '.join(review)\n",
        "  print(review2)\n",
        "  # Creating the Bag of Words model\n",
        "\n",
        "  X = cv.transform(review).toarray()\n",
        "  input_pred = model.predict(X)\n",
        "  input_pred = input_pred.astype(float)\n",
        "  print(input_pred)\n",
        "  if input_pred[0]==1:\n",
        "    result= \"Review is Positive\"\n",
        "  else:\n",
        "    result=\"Review is negative\"\n",
        "\n",
        "\n",
        "    result1 = (request.args.get('text'))\n",
        "    prediction = model.predict([[result1]])\n",
        "\n",
        "\n",
        "\n",
        "\n",
        "  return render_template('index.html', prediction_text='NLP Model  has predicted about the text : {}'.format(prediction))\n",
        "\n",
        "\n",
        "app.run()\n"
      ]
    },
    {
      "cell_type": "code",
      "execution_count": null,
      "metadata": {
        "id": "WY_SAov9TwOk"
      },
      "outputs": [],
      "source": []
    }
  ],
  "metadata": {
    "colab": {
      "provenance": []
    },
    "kernelspec": {
      "display_name": "Python 3",
      "name": "python3"
    },
    "language_info": {
      "name": "python"
    }
  },
  "nbformat": 4,
  "nbformat_minor": 0
}